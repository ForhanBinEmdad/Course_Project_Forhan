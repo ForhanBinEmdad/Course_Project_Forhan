{
  "nbformat": 4,
  "nbformat_minor": 0,
  "metadata": {
    "colab": {
      "name": "5.2 LDA NMF.ipynb",
      "version": "0.3.2",
      "provenance": []
    },
    "kernelspec": {
      "name": "python3",
      "display_name": "Python 3"
    }
  },
  "cells": [
    {
      "metadata": {
        "id": "CdHDOqNjFEd9",
        "colab_type": "text"
      },
      "cell_type": "markdown",
      "source": [
        "**LDA**"
      ]
    },
    {
      "metadata": {
        "id": "8pAQYEdAx4TP",
        "colab_type": "code",
        "colab": {}
      },
      "cell_type": "code",
      "source": [
        "import numpy as np\n",
        "import pandas as pd\n",
        "import seaborn as sns\n",
        "pd.set_option(\"display.max_colwidth\", 200)\n",
        "import sklearn as skl\n",
        "from google.colab import files"
      ],
      "execution_count": 0,
      "outputs": []
    },
    {
      "metadata": {
        "id": "uxq6sTWayDc-",
        "colab_type": "code",
        "colab": {}
      },
      "cell_type": "code",
      "source": [
        "corpus1 = [\n",
        "    'Hey Guys,  Its been 4 months since my last post as I wanted to give it a few months to see how this was going to work.  So, I have been on Trulicity for six months now with Metformin.  When I hit the five month period the diarrhea, gas, sulphur belching finally subsided.  I now longer have any of those side effects.  However, I still havent lost any weight at all, but I think that was because when I first started Trulicity I was taking it with Glimepiride and that one has a side effect of weight gain so I think the two meds were fighting each other lol.  I have been back on the Metformin with Trulicity for about a week now, so we will see what this does.  I was diagnosed as  stage 3 chronic kidney disease (CKD 3) so I am watching diet closely.'\n",
        "'I was recently referred to a endocrinologist and he started me on Trulicity and Jardiance. Ive tried to take Byetta in the past but had to stop because it made me very sick. I lost weight. But that was because I was throwing up all day. Effective weight loss method but I do NOT recommend it! '\n",
        "'Ive taken one dose of Trulicity and while I do have mild nausea it is not bad and I have switched from coffee to green tea in the morning. Really helps. That I would recommend. Sugar levels have not dropped significantly but they are dropping. Guess one week wont work wonders and I have to wait a bit. I dont know if it is the Trulicity or the Jardiance or the combo of both but I have managed to lose 7 pounds in 5 days.'\n",
        "'have only been on victorza for a few days.  I had bad nausea and migranes then it changed to no energy at all .  I sleep till noon one day and I have 2 young kids and a full time job.  Searching for a better answer'\n",
        "'I have been taking Jardiance for just over a year - I have NOT experienced any side effects whatsoever - MORE importantly this drug has reduced my blood sugar levels to an average of 5 and has maintained this level, quite incredible as nothing else has worked previously - I have named Jardiance as the &quot;diabetic wonder drug&quot; although my Doctor keeps reminding me there is no such thing as a wonder drug - I disagree this is MY wonder drug - thank you Jardiance you have changed my life completely astonishing result.'\n",
        "'Ive been on Victoza for 13 days and have lost 8lbs. Ive also been following a low carb diet maintaining 50g of carbs on a daily basis. Ive also worked out only mildly at 2-3 times a week so far.  Feeling great, lots of energy.  Only side effects were nausea the first 2 days and some mild constipation.'\n",
        "'I have only been on Victoza for less than a week now and already huge difference in my levels. Prior to Victoza I was on 2000mg Metforming, 5mg Onglyza following a low carb diet. That brought my levels down to an average of about 14 while fasting. Since being on the Victoza the highest reading I have had so far is a 12.5 which for me is incredible I cant wait to see what I will be at over the next month.  I am not focusing on the weight loss at the moment if it happens awesome, but Im most concerned about my sugars. As for side effects I have had very mild nausea and thats all.'\n",
        "'Started this last night. I have zero appetite. How is this possible? I love food, but I dont really feel like eating. All Ive had today is some grapes. I have a sandwich in my lunchbox, but I dont have any appetite. I havent had any of the side effects so far. I started with the 1.2 dose. The is really easy to use compared to my intramuscular testosterone. However, this drug is ridiculously expensive. Even with good insurance, I would have to pay almost $400 a MONTH!!! Fortunately, another serious illness pushed me over my out-of-pocket annual. So, I filled the script for $0. Due to politics I may have no insurance next year. Anyway, so far, so good with Victoza.'\n",
        "'I was on Bydureon for about 2 months, I really noticed the loss of appetite and lost my sweet tooth. My weight came down and my blood sugar levels dropped from 8.5 to 6.0. I was really happy with the medicine until the known side effects started to show. They were nausea this happened approx once a week in the fourth week in on taking the medicine and bloating, indigestion, a lot of passing wind and acidy burps. Also I felt a bump and itchy feeling around injection area whenever I injected. If they can sort out these side effects then it would be really fantastic for people with Type 2 diabetes. I was really reluctant to stop but the horrible nausea beat me.  '\n",
        "'Within 2 weeks saw blood glucose more than half to good levels Ive not seen for years (literally) no major side effects - felt sick twice within a day or two of first dose but apart from that all ok. Injecting in fatty tissue of stomach hardly any pain. Very well designed device and needle almost painless. I would recommend this for T2s who have gone to max on oral meds and need that extra help, this really is the magic bullet for me. I can handle weekly injections but not daily thats too much imho.'\n",
        "'I have been a type 2 diabetic for 10 yrs now. I tried victoza in may 2016. As of today, Sept. 24th I have lost 45 pounds, Im down to 1 metformin a day and my A1C is great!! The side effects are minimal. Mainly sour stomach but that can be controlled mostly by diet.  Low starch foods help alot. Im so glad after trying a few newer meds that I found victoza!!!'\n",
        "'All the side effects'\n",
        "'Initial use info and review. Little dizzy and nausea the first day. So far, blood sugar readings are dropping. Was around 107-117. Now at 83. A1C is at 6.7. Looking forward to dropping THAT number. Next A1C read is in mid July. No other adverse affects so far.'\n",
        "'My a1c is in the normal range now, and I have lost 42 lbs. All my labs are great due to the weight loss. I have been on 10mcg for over 2 years. My last a1c was so good last time, my doctor wants me to decrease to 5mcg. I have been to several dermatologists over the last 2 years trying to figure out why I am having hair loss, unhealthy hair, and change in texture. I never wanted to attribute it to the Byetta although the hair loss started a few months after I began taking it. I am now so desperate to stop the hair loss, Im considering stopping the Byetta. I cant decide which would be worse - being bald or gaining back 42 pounds! I would really love to know if the person who recently posted had any hair regrowth after stopping Byetta.'\n",
        "'I started Bydueron 10 weeks ago.  I was fine the first 6 weeks.  On week 7, I became extremely ill.  Vomiting, explosive diarrhea, gas pains and bloating like never before, long flatulence every few minutes (how embarrassing!), and sulfur-tasting belching (like rotten eggs).  Endo dr. said it wasnt the med.  I went to my primary doctor because I wasnt sure if it was a virus.  All of my tests came back negative.  Third week, same thing.  I decided not to take the injection and notified endo. She told me to stop metformin and resume shot.  Last week, had shot and condition worsened.  She finally told me to stop the injections.  Its been four weeks of suffering.  Not worth it!  This stuff is poison to me!'\n",
        "'Started trulicity about 8 months ago at .75mg...in the beginning very queasy &amp; complete loss of appetite which was a great thing. Also belching &amp; heartburn/sour stomach. I noticed after about 3 months the effects wore off so my doctor put me on 1.5mg 1x per week plus the .75mg 1x per week. None of the side effects returned...my appetite is back, no queasiness, weight loss stopped as well as no more sour stomach or belching. Wonder if anyone else has experienced the effects of the medicine wearing off as well. Not sure why I am still on it at this point! Also taking 1000mg Metformin 2x daily &amp; invokanna.'\n",
        "'I have been diabetic since 1989 and have gotten worse over the years.  My A1C has been climbing steadily.  I take Metformin 2500 mg per day.  In March my Dr started me on Januvia also and I cant believe the difference.  My A1C went from 9.4 to 7.0 in 4 months.  I am also surprised I havent had any side effects because it seems many meds bother me.  My problem now is my new health insurance wont cover Januvia as of Jan 2016.  Yuck.'\n",
        "'Jardiance gave me back pain because I was dehydrated so I decided to drink one glass of coconut water everyday to relieve the pain and it works'\n",
        "'I started trulicity on6-24-16 so far no side effects im used to drinking lots of water so im not bothered by the dry mouth i hope this helps me and doesnt give me more kkidney Damage ill keep u posted'\n",
        "'I started Victoza today. At only 0.6 mg. I felt so undeniably and utterly  unwell that I cannot imagine even trying it for a second day.  '\n",
        "' In summary, severe low blood sugar symptoms,  ravenously hungry  and I was also prescribe this for weight loss as well as diabetes,  headache, nenergy, and a general feeling of being very not well. '\n",
        "'In short I do not recommend this to anyone.'\n",
        "'Getting better results than with Lantus.  Used Lantus for 7 years.  I have used Toujeo for 1 year as of April 2016.  Did not experience any adverse side effects.  Blood sugar much more stable - not as many highs or lows.  Makes it easier to do fine-tuning with my mealtime insulin.  A1c came down and stayed between 6 and 6.3.'\n",
        "'I am a type two that went into Diabetic ketoacidosis (DKA) and spent three days in the ICU. Once I got out I found an endocronologist and he put me on Glyxambi and My numbers stay between 90 and 120. I also do not eat very many carbs. My doctor gave me a discount card that I use when I get my script filled and the 30 day supply is free with the card. I feel better than I have in years and my last A1c was 6.5 I have been on this drug since April 2016 and today is Oct 27th 2016'\n",
        "'Started it last week only took it for 2 days made me very ill stopped it after 2nd dose still poorly 10 days later glad to hear some people are having real benefit from it'\n",
        "'Was on language for 4 years no side effects was taking 58 units,been on toujeo for 3 weeks and Im beginning to notice a pounding heart beat off and on it started yesterday I hope this passes cause I like the numbers im getting wasnt getting these kind of numbers with language.'\n",
        "'I have been on it 8-9 weeks? Only side effect I have had outside the last two days is loss of appetite which is wonderful for a binge eater like myself. You not only get full sooner, you almost feel sick. I dont mind, reminds me I need to keep myself in check.'\n",
        "'Until the last two days, I have not had the nausea and vomiting others seem to have. I dont know why it decided to start. Vomited two days in a row now. Hope it doesnt continue, I otherwise love it.'\n",
        "'I couldnt tolerate metformin at all.  Moving to Januvia was wonderful. Ive been on it for a year and a half and have had no side effects whatsoever. Blood glucose numbers and A1c (5.7!) have been good, but I also exercise and closely watch my diet.'\n",
        "'Bydureon helped me get my A1c numbers down. If I would just follow the rules and eat right, it could do wonders. Also, for those getting the nodules at the injection site, put an ice pack on the site for about 15 minutes and you will probably not get a knot. Works wonders for me.'\n",
        "'I have start taking forxiga 10 mg 6 months before.  I have UTI and I feel that my power of muscles getting weaker and weaker.  I am skinny and after taking this medicine I became even more skinny I continue to loose weight. It is horrible to me.'\n",
        "'Switched from Lantus to Toujeo. Same results. Not at goal. Then seas switched to Treseba. Tastings are more or less in the low 100s each and every day. Not fearing hypos like before and feel much better'\n",
        "'worst yeast infection ever!  Running to the bathroom all the time, didnt make it a few times, glad that happened at home.'\n",
        "'I started Trulicity about a year ago because the medication I was on kept crystalizing and was hard to inject.  I have lost weight about 22 pounds over the course of a year.  The biggest things to get used to were the nausea and the diarrhea but after giving 4 weeks to adjust to the medication my blood sugar does not spike like it used to and I felt better.  I dont have my usual cravings for anything bad for me  but I do have an appetite.  I tell anyone who needs to lose a few pounds and lower blood sugar to stick with it.  It will get better.  I cant complain about the medication.  All anti-diabetic agents cause the stomach issues.  Hang in there.'\n",
        "'I was taken off Invokamet and started Kombiglyze/metformin and my normal waking sugar has usually been a little high (140-180) but after being on this its in the 200s and 300s waking and stays high most of the day (even with small doses of humalog). Its been crazy and am looking at changing to something different now :/'\n",
        "'Within 12 days 100 mg brought my sugar down 40 pts. HOWEVER, it did a number on my blood pressure. I have excellent blood pressure, on the lower end of normal, and this dropped it down to the point I could barely function. Fatigue so bad I had to stop driving after 15 miles because I was falling asleep at the wheel. Going up the 3 flights of stairs to my apt felt like climbing Mt. Everest. Constant dizziness, wooziness, the floor felt like it was moving when Id bend down. Weird tunnel vision effect like what happens when you know youre gonna faint. It took 2 full days for all those side effects to clear after I quit taking it. I suffered 12 days thinking Id get used to it but it just kept getting worse. Beware low BP side effects with it'\n",
        "'I dont like this particular brand of Metformin. It doesnt have consistent results. My A1C  was down to 5.9 from 11.8 when first diagnosed  in 2009 after receiving a round of steroid shots for my back pain. My doctor had put me on a series of different diabetic  type 2 meds. They found I was insulin resistance. So, they put me on Actos  for about  6 months and that is what got everything under control. I also had a extreme diet change  in 4 months I lost 100 lbs. Also helped my numbers. Unfortunately I had a life changing event which required me too move out of state. I just had my urine checked and my kidneys seem to be fine but having major issue when my sugar is 129 -. My A1C has gone up since taking this. Itching, diarrhea, weight gain'\n",
        "'Give Trulicity at least 4 weeks. I like many others experienced upset stomach, nausea and fatigue the first month where symptoms decreased each week. The nausea was quick and unexpected and I wanted to throw in the towel. Im now on week 6 and feel fine most of the time. The fatigue is still there sometimes but its been manageable. This has been the best medicine for me by far. I  am on the low dose .75 and also take metformin 500 mg twice daily. I find the best time to take my shot is at night before I go to bed and I only take 1- 500 mg of metformin the day after the shot, where the side effects were more active. I was on Kombiglyze SR that had 2000mg of metformin. It did not work for me. My numbers are finally below 120 with trulicity.'\n",
        "'Unbelievable... Appetite has been cut in half if not more, however eating healthy and keeping a food log to ensure calorie intake. Starting 2nd week increasing dosage to 1.2. Have experienced no side effects i.e., nausea, headaches, etc.  Career mandates extensive travel, has been easy to maintain overall calories without any &quot;sugary cravings&quot;.'\n",
        "'Ive just started using Levemir Flextouch.  I only use it at bedtime.  Morning. sugars are 278 or higher.  Im up to 60 units so Im concerned.'\n",
        "'For some reason my A1C was increasing.  My doctor added Jardiance to my regiment.  My A1C dropped from 7.8 to 7.4 quite quickly.  After three more months on Jardiance my A1C went from 7.4 to 6.2.   I have also lost about 6 pounds since taking it.'\n",
        "'Side effects have been UTI and I feel tired and weak quite a bit.  No energy.  Other than that, Ive been good.  But I dont like feeling like this, so will tell my doctor about it today. Perhaps a small price to pay for such a drop in my A1C.'\n",
        "'It is also very expensive.  I get samples from my Dr at times, but being on Medicare and it being a new drug, its pretty costly.  Have to see if its even on the formulary for 2018 as it always changes &amp; the drug co. does not give discounts to Medicare folks'\n",
        "'Because of all of the bad reviews I was scared to death. In two weeks, I have lost almost 10 pounds. I have been very careful not to eat greasy foods, but have found that if I do eat something I feel badly for only  a bit. My sugar count daily was never under 180 always between 230 and 300. I was disgusted even to take it. No matter if I ate salads or a cheeseburger it was high. I woke up this morning and my count was 120. I feel good but I am a little sleepy. Taking the shot is so easy, last time I had to check and make sure there was a puncture mark because I didnt feel the needle. I am, so far on the lowest dosage but this Saturday I take the higher dose.Very happy so far. Ill let you know with the higher dose how things go.'\n",
        "'Ive been taking the 1.2 dosage for about 4 weeks. My PA didnt start me on a lower dose and increase which may have been good as the nausea has been pretty bad. I know Ive lost at least 10lbs and I havent got much appetite. I do feel full quickly as well. Also, Im not seeing a huge improvement on my daily numbers - its been 4 hours since breakfast and my blood glucose is 172. While Im not complaining about the weight loss, I am very concerned about the long term side effects of taking this medication and am looking forward to more information on that. I see my PA tomorrow for a follow-up so will see what they say.'\n",
        "'I have been taking 25 mg of Jardiance each day for 4 months. I pee constantly, have to get up through the night to pee.  I am always thirsty and I drink a lot.  I too have noticed an increase in sugar cravings.  Eye doc found a hole in my retina last week and I had laser surgery to repair it.  I also have a constant yeast infection which is very uncomfortable.  I do not want to take this drug anymore but my pancreas does not work correctly since I had a tumour 25 years ago.  I am going to try to eliminate all sugar from my diet to see if my BS is ok.'\n",
        "'No side effects has worked well for me'\n",
        "'I have been on toujeo for almost a year. I have chronic health conditions and then got type 2 diabetes. The longer you have it the harder it is to control. I have noticed new things that havent gone away. One eye is blurry, sometimes both of them. I have convultions in my boby that drive me crazy. Its not fun to have your body jumping around. I have also been having cold sweats, dizziness &amp; headache. I am going to go back to Lantus.It took me awhile to realize these symptoms were not normal to my other illnessess. But I am sure now.'\n",
        "'Started out with 5 mg 3 months ago.  Began having slight external itching after about a month.  Never turned into an internal yeast infection.  It was off and on.  Started taking 10 mg about 10 days  ago and it turned into an &ldquo;worse itch ever &rdquo;.  Awful!  Couldn&rsquo;t tell much difference in going to the bathroom nor a change in my blood sugar.  Did not help A1c.  I would rather fight high blood sugar than take this medication.!!'\n",
        "'I took this drug for 6 days. On the third day my sugar dropped to 60. On the sixth day it did it again - hypoglycaemic.. take at your own risk!! very bad drug'\n",
        "'A couple of years ago, I was introduced to Victoza and had a horrible experience with it and stopped taking it.  During this time, my doctor instructed me to take it with my Metformin thinking it would help me lose weight.  A couple of years later,  l found that the Metformin was causing me complications. I changed doctors and my new doctor recommended Victoza again.  This time without using Metformin or any other diabetes medication. Reluctantly, I tried it and to my surprise,  I have had great results.  I no longer have cravings for sweets and my appetite has changed drastically. I have zero side effects.    In 3 weeks, I have lost nearly 15 pounds.  In September 2015, I will have my a1c checked again and praying for better A1c.'\n",
        "'I have been on Victoza for quite a long while now.  I was between 278 and 287 pounds when I started and my blood sugar was not good.  I have been taking the Victoza well over a year now and am down to 215 pounds, quite amazing really as the medicine makes you not want to eat and you feel full with only a little food.'\n",
        "'However, the nausea is the worst and getting accustomed to the medicine is the hardest part.  Yes, you should not take Victoza on an empty stomach.  I had started taking it in the early mornings.  But sometimes even though I ate a little something, once the nausea started then up came everything I had ever eaten in my life. It happens really fast!'\n",
        "'Just dont give up the fight, the good is better than the bad!'\n",
        "'Been on Byetta for 2 years &amp; it is fine except the nausea in the morning after the injection so my doctor told me to have it 15 minutes before my breakfast &amp; it works wonders. No more nausea. I also have it 15 minutes before dinner also. My weight stays the same as I am not overweight.'\n",
        "'Ive been taking Victoza for 2 months, up to full dose.  Side effects, gas and sulphur burps and acid reflux.  What I have realized is that this medicine actually makes your stomach empty slower into the smaller intestine.  Imagine you have a chemically induced lap-band.  You cannot eat what you were use to, your stomach is half full to begin with.  So with alot of trial and error you will figure out the eating habits to prevent the reflux and such.  I am planning on eliminating dinner, just a nestle Boost and maybe cheese and grapes later but want to do just the boost.  So I hope major weight loss comes soon.  I will let you know.'\n",
        "'Save your money. All positive reviews are written by investors of this products stock.'\n",
        "'Was having a very difficult time controlling my blood sugar.  My A1C reached 9.1 and I was hospitalized for three days, then sent to an endocrinologist.  He put me on Victoza 1.8ML once a day and an Invokana 300MG once a day.  Within 2 three months I was at 5.9 A1C and average 110 blood sugar.  I have lost close to 40 lbs.  There have been some side effects, constipation, cramping, and thirst.  These have all faded and become less extreme after being on the combo for just over 6 months.  I would never change this medication.  It truly has changed my life.  Had to change insurance this year and it was a battle to get the Invokana approved but they relented. Thank goodness.  FYI  I have taken, Glipizide, Glimerpride, Metformin, Actos and Insulin.'\n",
        "'Have been on metformin 2.5g, glimepride 4mg, Januvia 100mg reading now 6.3 3 months on Januvia for 12 months. No weight gain, no side effects. Was on Actos, gained 4kg, had hypos readings above 7. 3 months all the time, less hunger pain no hypos, best readings in 3 years.'\n",
        "'Invokana was a disaster for me!  First on Invokamet, also bad!  Had GI problems with Invokamet.  Dr, switched me to Invokana.  Worse GI problems.  Developed anal fissures from the diarrhea and constipation.  Now have yeast infection.  Back on Metformin and exercise.  Numbers are better!'\n",
        "'I started taking this medication 5 weeks ago, with average blood sugar control.  My first experience after a couple of dosages I passed out.  For the past 4 weeks I have had system wide lymph node swelling, fever, skin sensitivity.  I have had several cancer tests.  I am going off of this HORRIBLE medicine. I have researched and have seen that there are not many like me, but there are at least 3 that have done either the same or had some of the same symptoms.  I have almost lost my job due to this medicine, and my health and well-being has been horrible since I have been taking this.  For those of you that it works for, great, I am glad it does.  Please just be aware of any of the above reactions.'\n",
        "'Been on Jardiance 10mg 3 months and have lost 20 lbs without changing my diet significantly. First time under 200 lbs in 30 years!  My BP is lower and my knees dont ache and have not had any back pain . However, my HgA1C has increased from 8.5 to 10.2 and BGs have increased to between 10 - 15 (Canadian readings!) I am taking Metformin 1000 mg twice daily along with the Jardiance. My Dr. discontinued Glucophage and Januvia before adding Jardiance so this may have caused the increased changes. Ive had 3 yeast infections during this time but better now. Dry mouth and increased thirst as well as urine that is almost syrupy at times. My Dr. was not aware of weight loss as a side effect so sending me for tests! Thanks for your reassurance!'\n",
        "'On 100 mg daily for almost 2 yrs and could hardly walk, lay or sit anymore. EXTREME joint pain, increasing monthly. Sent to arthritis doctor and ortho with no relief, only more pills. I researched online and found others with same problem. Took myself off Januvia and joint pain is GONE! I can walk again!'\n",
        "'Ive been on Invokana  for year in a half. At first I did lose weight as Ive done with other diabetic medications. That lasted maybe a month and than stopped. I didnt see a significant drop in my A1C and have frequent yeast infection. If I cant get to the pharmacy to pick it up and am without it for a couple of days I get relief from the yeast infection. Im to the point where I am tired of dealing with having the and will most likely ask my doctor to take me off of it.'\n",
        "'On Bydureon about a year.  Im 57, been diagnosed type 2 Diabetic for about 8 years. On Insulin + Metformin.  Doc prescribed this for me originally because I just couldnt get my A1C below 7.0 even though my daily numbers rarely climbed over 130 even right after eating.'\n",
        "'The Pros:  A1C dropped into the low 4s and remains at that level.  Lost 20 - 25 lbs and the weight has stayed off.  Pen device is not difficult to set up and use once a week, takes about 5 minutes max to do the injection routine and Ive only had 1 instance total in a years time of a pen not working properly.'\n",
        "'The Cons: HUGE needle that hurts. Bad nausea after injection and occasional itchy hard lumps at injection site. One major B/sugar crash - low 50s.'\n",
        "'Started taking Victoza 6 days ago.  I have had migraines and a little bit of nausea.  I  am taking 0.6 mg.  I have not lost any weight from this medicine yet. My Doctor wanted me to try Victoza because even with low carb diet and 1500mg of metformin and 100mg of Januvia my blood sugar was still high.  I tried Lantus insulin for 10 days and gained 9 lbs in the 10 days after starting it so I quit taking it.  I have lost 16 lbs in the last year and my blood sugars have gone up so I do not want to take insulin and gain the weight I worked so hard to lose back.'\n",
        "'I have had the Amaryl and after 4 month my love life was gone, and another person that I know, he had the same problem. He is still using Amaryl and now even Viagra doesnt work any more.'\n",
        "'Started taking Byetta three weeks ago, no real problems associated with it other than constipation which I hate. I have never ever had this problem in my life. My numbers went up a few points the first week but on the second week has been at 100-140. I can live with that, better than the 200-300 I was at with pills. Not eating as much lost 5 pounds so far and I dont get as hungry as often as I did. So far its working.'\n",
        "'Im over 300lbs I have only been taking this for 1 month and Im finally losing weight. Its so strange. Ive been on metformin for about 6 months but it failed to lower my numbers. With this pill Im never hungry just thirsty. I have to force myself to eat at times. I didnt notice the weight loss at first but everyone else did. Its coming off fast and I havent yet incorporated exercise or much of a change in diet. The only bad side affect Ive experienced is the frequent urination and dry mouth. I sometimes have bladder pain but only the times I dont drink plenty of water. Im so excited to be finally losing weight!'\n",
        "'For many years, I had intestine cramps. I used to take medicines. By afternoon I used to again pain. Also cholesterol used to be high. Type 2: diabetic was identified. Since Nov 2013. I am using. Janumet 50/1000 bMy intestine aches zeroed. So is cholesterol. Levels. I feel good.'\n",
        "'I got this shot during a doctor visit.  Unsure if dose was the .75 mg but the 3 samples he gave me were of the 1.5 mg dose.  Side effects began following day: nausea, diarrhea, abdominal pain, decreased appetite, indigestion and severe acid reflux. I also had body aches and fatigue. I dare say I felt depressed. I had just gotten over the stomach flu 3 weeks before and it felt like I had come down with it again! Trulicity did lower my glucose levels as did my weight (3 lbs. that week) Of course it did! I could not eat and what ever little food I ate, it came out in minutes!  I DID NOT and WILL NOT inject myself with this again  Im sorry I agreed on the shot.  One of the worst weeks of my life!'\n",
        "'I totally love it! The best medicine that they have ever ever come out with for diabetes type 2!'\n",
        "'Numbness on the leg after injection from the knee cap to nearly the groin and around the side of the leg'\n",
        "'Been on 10mg Empagliflozin for just over a month and  Ive lost 21 lbs in that time.  Ive been on 800 calorie/day low carb diet too and have found it quite easy to do.  As a result Ive come off insulin and Im sure thats made it easier to lose weight.  Something I havent seen anyone mention is fluid retention.  I suffered really badly from fluid retention in hot weather.  When the temperature goes up, I can put on 14 lbs in 48 hours and can then barely walk my legs and feet are so swollen.  Never found anything that really helped.  Just had to wait for weather to cool down again and swelling reduced.  Since Ive been on Empagliflozin, my body is properly drained all the time.  Fabulous!  Love this drug. HbA1c good too.'\n",
        "'Started on Victoza two weeks ago.  Ive lost six pounds and have not experienced any of the negative side-effects - just the decreased appetite.  I was taking Metformin 1000mg twice a day and glypizide (Glucotrol) 10 mg twice a day, and my morning sugars were crazy high, like in the 200s and the doc was talking about insulin.  Then I saw the endocrinologist, who put me on Victoza and on day 2 my morning bg was 89!  Am now off the glypizide and tapering off the Metformin, continuing to lose weight and feeling good!  I hope the long-term side-effects dont turn out to be bad...'\n",
        "'Im on my 2nd weeks with Truelicity.0.75 mg..I take my shot every Friday at noon. by Saturday-Sunday night I have diarrhea, and feeling very sick to my stomach /getting sick..&amp; The hearburn I think is the worst side effect of all..Burping every 20 minutes then it feels like my chest is on fire..Alka-Seltzer did help with the heartburn!! Last but not least im hardly eating..I maybe take 3 bites of something and im done with it..It seems like my taste buds have changed all food is either to sweet or to salty...On the other hand my blood sugar numbers are great..I was taking Tresiba 30 units once a day with metformin 1,000 mgs 2x a day.&amp; my blood sugar numbers were over 280..with truelicity my blood sugar numbers are under 170 after i eat'\n",
        "'I have lost extensive weight and have lots of energy but my hair is falling out and is so brittle is  breaking off at the ends. My numbers have gone down but your hair is usually a good indication of your health.  If the medication is doing this to my hair what other long terms effects am i going to have that I am unaware of. '\n",
        "'I am thankful that other people expressed their problem with hair loss also. I was told that I probably use too many chemicals on my hair.'\n",
        "'As a prediabetic, I am anxious to not hit a &quot;tipping point&quot; into full diabetes. I asked my GP for Vitroza, but could only get insurance to cover Byetta. Three weeks later and 25 pounds less, I am thrilled. I still lap swim 3 times a week and lift weights with no hunger or sweet cravings. Also I inject in my thigh with no side effects. WHEW! Thanks Byetta!!'\n",
        "'I was prescribed Invokana for high glucose (Prediabetes), not diabetic yet.  I have been on the medicine a little over a month.  I developed a yeast infection and my hair is shedding a lot--handfuls at a time. Dermatologist said it would shed for up to 10 more weeks. What a horrible side effect that is not mentioned anywhere!  I stopped taking the medicine.'\n",
        "'Ive been on Victoza for 2 &amp; a half years. I was a little nauseated at first but my a1c has been around 6 since i started taking it. Ive also lost 70 lbs! I feel better than I ever have!'\n",
        "'One month before I got newly diagnosed that I am diabetic. My A1C test shows 6.9 and doctor told I have diabetics. He preferred Januvia 100mg (1 time) with metformin 500 mg (2 times). I felt some side effects initially and gone after some days. Now I am doing regular exercise. But if I stop exercise or eat more food, the side effects like stomach problem easily coming back. '\n",
        "'Now when I am checking my sugar in device, its showing around 70-80 on fasting and 90-105 two hours after breakfast. But I think my glucose coming down when I miss a meal any time. I cant tolerate it.'\n",
        "'So I believe, exercise is more important than any medicine. Once I dropped all medicines for ten days and exercised only, it showed normal glucose levels.'\n",
        "'Type 2. Active mom, 47, work, dance, sing, travel. '\n",
        "'1000mg metformin twice a day, readings with Tradjenta between 140-230. Another doctor recommended yesterday to try Glipizide for 30 days, this morning a surprising 104. Feeling well.'\n",
        "'Second time Dr, put me on bydureon. Been on for 6 weeks this time and my sugar level hasnt been below 200 except twice. Lost a few lbs. No side effects. I feel ok but want sugar level back in the 100s when I was taking the another med which was worked great. The only reason I am off that med is because the military switched do to cost (budget). I need to get my A1c check.'\n",
        "'I am on my 3rd week of Trulicity.'\n",
        "'I was really apprehensive after the first dose, and I waited for the awful symptoms to kick in.'\n",
        "'I was looking after my diet and exercising. After 4 days, I kinda over ate and also had some ice cream. Thats when the nausea and diarrhea kicked in. Stomach and nausea settled back to normal in a day or so.'\n",
        "'To avoid these symptoms, its really important to avoid diary and eat very small meals.'\n",
        "'My numbers have shown a dramatic improvement.'\n",
        "'Ive lost 11 pounds so far, but that because I have dieted and exercised along-with the Trulicity.'\n",
        "'Good luck everybody'\n",
        "'Been on victoza 0.6 mg for a week. Was on a flozin before which was wonderful, lost a stone and g ad tons of energy. Then I was forced to go onto victoza. Felt sick with headache since, stomach pain, constipation, always but thirsty. In fact so thirsty I cant sleep, no matter how much water I drink. Sore throat, which puts me off solid food. Hungry all the time but cut down on carbs so cant fill up. Plus, my blood sugar has shot up from 9 to 14 on this rubbish. Wondering whether the higher 1.2 dose would work, but scared of feeling even more ill. The energy I gained on the flozin has gone, I just want to sleep all the time. I am forced to use this as it was prescribed, they said they want to keep me on it 6 months. Cant wait to get back on t,'\n",
        "'After 3 months of 2mg four times a day, with no change in glucose levels my doctor and I sat down for a talk.  When asked if there was a ceiling for the dosages he said we have plenty of room to adjust (there actually is no recorded max dose I could find in the literature).  The typical patient uses about 4 mg four times a day. I have found that I have had to increase as much as 16mg four times a day to see adequate glucose changes.  Its ease of use and small size makes it easier to take than some, but I have yet to find its stable dosage for ME.'\n",
        "'Invokana 100 mg daily  in addition to Metformin took my blood sugar levels way down..never over 150s range. . lost weight without trying. .main side effect was constant urination. .about every hour..great med  other than that'\n",
        "'So far not impressed. Had tummy upset  for two weeks but that did ease off. I do feel full and bloated which is good but my blood sugars are higher than when I was on othe meds by mouth. Im on Novo mix 30 insulin 60 morning dose and 60 evening dose. My readings over the last week have been from 12.8 to 24.6. Surely this isnt right. And no weight loss. Feel really disappointed. I do take Mirtazipine for depression and my G.P. has just increased my dose. Apparently this can cause increased weight and appetite. Feel like Im fighting a losing battle at the moment.'\n",
        "'Started taking 100 mg daily at night numbers came down in a week...went to see the Doctor in a month he was happy then he prescribed 300 mg daily...soon after taking this dosage I began to experience an itching on my penis and it was driving me crazy, also experienced more frequent urination along with an insatiable thirst. I was about to schedule an appointment with my urologist until I Googled &quot;Side effects of Invokana&quot;.  The itching wouldnt stop didnt know that there were these side effects from this medication and even though it helped bring down my sugar levels I really dont think its worth the other problems it presents.  I too have experienced a weight loss. It is a good medicine but the side effects arent worth it. Sorry'\n",
        "'I have been on Bydureon for two years and have lost over 30+ pounds along with my sugars now under control. I also take Metformin as an oral as well. In reviewing some of the reviews I agree that in the beginning I had so called lumps but as time has gone by I dont seem to get them any longer. No burning and once in awhile a little bleeding but that can be cleaned away just like when you are getting blood taken. After all you are injecting into the skin. One of the things I do before taking my weekly scheduled injection is taking the kit out of the refrigerator the day before and getting it down to room temperature. Not sure if this has eliminated lumps or burning but there seems to be a difference. Bydureon has been good to me.'\n",
        "'I have been on for 3 weeks and am losing weight. Clothes are loser. I average about 700 calories a day, as that is all I can bear to eat. The sight of food makes me nauseated and I take the med at night because of the drowsiness it produces. It is doing what it promises. Food has taken a back seat in my life for a change. I dont even think of my next meal, anymore.'\n",
        "'My a1c has been 8 on metformin and Januvia. '\n",
        "'After 2 doses of janumet I went hypo. Feeling woozy and generally unwell.  BP 159/61.'\n",
        "'Bad scene.'\n",
        "'Lost 6 kgs in 3 weeks, weight has been stagnant after that though. Fasting sugar came down from 200 to 116. Great medicine.'\n",
        "'I started Trulicity 3 weeks ago and have not experienced any noticeable side effects. That said, I have been following a very strict low carb diet that has been predominantly vegan. I have a feeling that carb rich foods and heavy animal protein foods exacerbate the GI side effects. I am also on 2000 mg of metformin. I have heard that GI side effects are horrible with glucose lowering drugs but I suspect it has A LOT to do with what people are eating....'\n",
        "'Started taking Invokana 100 mg on 4/19/16. By 4/26/16 I developed the most horrendous yeast infection ever. I was then prescribed fluconazole 100 mg for 10 days. So far have not had any relief from the yeast infection. Brain fog and awful muscle and joint pain have also plagued me after I started taking Invokana.  I have since stopped taking it, just not worth the physical pain or the mental disconnect that comes with it.'\n",
        "'I am on my 2nd week of using this medication. I am taking it for insulin resistance and noticed a difference very quickly as far as appetite and hunger.  The first day after my first shot I did not eat as much at each meal and did not feel as ravenously hungry between meals.  Its been a week and a half and Ive already dropped 6 lbs.  The needle is a little big but the weight loss is worth it.  I do have the itching around the injection site - about the size of a quarter and feels like a mosquito bite.  Hoping this diminishes..... but its the only really bothersome thing Ive noticed so far. No nausea (which was terrible with Victoza) and nothing else of note.  Hoping this (and the weight loss) continues.'\n",
        "'Good for treating post-meal blood sugar spikes.'\n",
        "'Im constipated all the time. (I was eating 40+ grams of fiber a day) - so I am absolutely miserable on this. My blood sugars are lower, but only because I cant eat.  If I eat anything healthy at all, I get sick.  '\n",
        "'I cannot lay down at night because the heartburn is so bad.  The first thing I do every morning is throw up.  The only time I dont have nausea is if I eat refined flour or sugar - which is not what I want to do.  I constantly have cramps, feel like I have the flu, and overall my quality of life has gotten worse since I started. '\n",
        "'I dont know why my doctor wont let me go to mealtime insulin instead of this.'\n",
        "'I am taking this with metformin for over a week now. It took a few days to overcome the &quot;sinus headache&quot; effect. Other than that, controlling my sugar is less stressful with this med. added to my regimen of diet and exercise. (I was diagnosed about 3 months ago).'\n",
        "'I have been taking 4mg once in morning for last 8 or 9 years without any problems. Weight is staying stable within 5 lbs  /- for the last 8 or 9 years. '\n",
        "'Doctor put me on Victoza. Metformin alone wasnt cutting it. Started a little over 2 weeks ago, lost 13 pounds, curved my appetite. I feel great and my sugar level is averaging about 110 and it was over 220.  love it....'\n",
        "]\n"
      ],
      "execution_count": 0,
      "outputs": []
    },
    {
      "metadata": {
        "id": "2VIGxXi-yOhz",
        "colab_type": "code",
        "colab": {}
      },
      "cell_type": "code",
      "source": [
        "df = pd.DataFrame({'document':corpus1})\n",
        "\n",
        "# removing everything except alphabets`\n",
        "df['clean_doc'] = df['document'].str.replace(\"[^a-zA-Z#]\", \" \")\n",
        "\n",
        "# removing short words\n",
        "df['clean_doc'] = df['clean_doc'].apply(lambda x: ' '.join([w for w in x.split() if len(w)>3]))\n",
        "\n",
        "# make all text lowercase\n",
        "df['clean_doc'] = df['clean_doc'].apply(lambda x: x.lower())"
      ],
      "execution_count": 0,
      "outputs": []
    },
    {
      "metadata": {
        "id": "ZC_LVKxYzBYq",
        "colab_type": "code",
        "outputId": "d66840b9-2b3d-4861-b7c5-b9dfec686a2c",
        "colab": {
          "base_uri": "https://localhost:8080/",
          "height": 72
        }
      },
      "cell_type": "code",
      "source": [
        "import nltk\n",
        "nltk.download('stopwords')"
      ],
      "execution_count": 0,
      "outputs": [
        {
          "output_type": "stream",
          "text": [
            "[nltk_data] Downloading package stopwords to /root/nltk_data...\n",
            "[nltk_data]   Package stopwords is already up-to-date!\n"
          ],
          "name": "stdout"
        },
        {
          "output_type": "execute_result",
          "data": {
            "text/plain": [
              "True"
            ]
          },
          "metadata": {
            "tags": []
          },
          "execution_count": 13
        }
      ]
    },
    {
      "metadata": {
        "id": "jOooxOrLyxXz",
        "colab_type": "code",
        "colab": {}
      },
      "cell_type": "code",
      "source": [
        "from nltk.corpus import stopwords\n",
        "stop_words = stopwords.words('english')\n",
        "\n",
        "# tokenization\n",
        "tokenized_doc = df['clean_doc'].apply(lambda x: x.split())\n",
        "\n",
        "# remove stop-words\n",
        "tokenized_doc = tokenized_doc.apply(lambda x: [item for item in x if item not in stop_words])\n",
        "\n",
        "# de-tokenization\n",
        "detokenized_doc = []\n",
        "for i in range(len(df)):\n",
        "    t = ' '.join(tokenized_doc[i])\n",
        "    detokenized_doc.append(t)\n",
        "\n",
        "df['clean_doc'] = detokenized_doc"
      ],
      "execution_count": 0,
      "outputs": []
    },
    {
      "metadata": {
        "id": "YNiUBtrly_Wm",
        "colab_type": "code",
        "outputId": "7df1e3f9-95fd-47be-cbc5-78ddf5d8bb88",
        "colab": {
          "base_uri": "https://localhost:8080/",
          "height": 35
        }
      },
      "cell_type": "code",
      "source": [
        "from sklearn.feature_extraction.text import TfidfVectorizer\n",
        "\n",
        "vectorizer = TfidfVectorizer(stop_words='english', \n",
        "max_features= 1000, # keep top 1000 terms  \n",
        "smooth_idf=True)\n",
        "\n",
        "X = vectorizer.fit_transform(df['clean_doc'])\n",
        "\n",
        "X.shape # check shape of the document-term matrix"
      ],
      "execution_count": 0,
      "outputs": [
        {
          "output_type": "execute_result",
          "data": {
            "text/plain": [
              "(1, 1000)"
            ]
          },
          "metadata": {
            "tags": []
          },
          "execution_count": 15
        }
      ]
    },
    {
      "metadata": {
        "id": "9Q_g5IaYzxhS",
        "colab_type": "code",
        "outputId": "29e74405-b791-429f-e9e5-57470bf4d140",
        "colab": {
          "base_uri": "https://localhost:8080/",
          "height": 92
        }
      },
      "cell_type": "code",
      "source": [
        "from sklearn.decomposition import LatentDirichletAllocation\n",
        "\n",
        "# SVD represent documents and terms in vectors \n",
        "\n",
        "lda = LatentDirichletAllocation(n_topics=10, max_iter=5, learning_method='online', learning_offset=50.,random_state=0)\n",
        "lda.fit(X)\n",
        "\n",
        "len(lda.components_)"
      ],
      "execution_count": 0,
      "outputs": [
        {
          "output_type": "stream",
          "text": [
            "/usr/local/lib/python3.6/dist-packages/sklearn/decomposition/online_lda.py:314: DeprecationWarning: n_topics has been renamed to n_components in version 0.19 and will be removed in 0.21\n",
            "  DeprecationWarning)\n"
          ],
          "name": "stderr"
        },
        {
          "output_type": "execute_result",
          "data": {
            "text/plain": [
              "10"
            ]
          },
          "metadata": {
            "tags": []
          },
          "execution_count": 16
        }
      ]
    },
    {
      "metadata": {
        "id": "QM5nqYFk1fH4",
        "colab_type": "code",
        "outputId": "e6dd52b1-f0bd-4207-afa1-bc81dc0252df",
        "colab": {
          "base_uri": "https://localhost:8080/",
          "height": 2745
        }
      },
      "cell_type": "code",
      "source": [
        "terms = vectorizer.get_feature_names()\n",
        "\n",
        "for i, comp in enumerate(lda.components_):\n",
        "    terms_comp = zip(terms, comp)\n",
        "    sorted_terms = sorted(terms_comp, key= lambda x:x[1], reverse=True)[:7]\n",
        "    print(\"Topic \"+str(i)+\": \")\n",
        "    for t in sorted_terms:\n",
        "        print(t[0])\n",
        "        print(\" \")"
      ],
      "execution_count": 0,
      "outputs": [
        {
          "output_type": "stream",
          "text": [
            "Topic 0: \n",
            "switched\n",
            " \n",
            "endo\n",
            " \n",
            "high\n",
            " \n",
            "treating\n",
            " \n",
            "wore\n",
            " \n",
            "stairs\n",
            " \n",
            "easier\n",
            " \n",
            "Topic 1: \n",
            "script\n",
            " \n",
            "risk\n",
            " \n",
            "concerned\n",
            " \n",
            "stay\n",
            " \n",
            "slight\n",
            " \n",
            "searching\n",
            " \n",
            "used\n",
            " \n",
            "Topic 2: \n",
            "likely\n",
            " \n",
            "love\n",
            " \n",
            "pressure\n",
            " \n",
            "money\n",
            " \n",
            "muscles\n",
            " \n",
            "aware\n",
            " \n",
            "empagliflozin\n",
            " \n",
            "Topic 3: \n",
            "stone\n",
            " \n",
            "quot\n",
            " \n",
            "half\n",
            " \n",
            "cons\n",
            " \n",
            "managed\n",
            " \n",
            "continues\n",
            " \n",
            "everybodybeen\n",
            " \n",
            "Topic 4: \n",
            "badly\n",
            " \n",
            "brittle\n",
            " \n",
            "fearing\n",
            " \n",
            "meds\n",
            " \n",
            "sept\n",
            " \n",
            "longer\n",
            " \n",
            "drink\n",
            " \n",
            "Topic 5: \n",
            "zero\n",
            " \n",
            "written\n",
            " \n",
            "woozy\n",
            " \n",
            "decide\n",
            " \n",
            "empagliflozin\n",
            " \n",
            "doctors\n",
            " \n",
            "fight\n",
            " \n",
            "Topic 6: \n",
            "havent\n",
            " \n",
            "rules\n",
            " \n",
            "september\n",
            " \n",
            "march\n",
            " \n",
            "associated\n",
            " \n",
            "improvement\n",
            " \n",
            "stable\n",
            " \n",
            "Topic 7: \n",
            "costly\n",
            " \n",
            "twice\n",
            " \n",
            "syrupy\n",
            " \n",
            "passing\n",
            " \n",
            "temperature\n",
            " \n",
            "worsened\n",
            " \n",
            "ensure\n",
            " \n",
            "Topic 8: \n",
            "method\n",
            " \n",
            "sulphur\n",
            " \n",
            "language\n",
            " \n",
            "pill\n",
            " \n",
            "began\n",
            " \n",
            "settled\n",
            " \n",
            "undeniably\n",
            " \n",
            "Topic 9: \n",
            "cool\n",
            " \n",
            "mandates\n",
            " \n",
            "running\n",
            " \n",
            "need\n",
            " \n",
            "terms\n",
            " \n",
            "temperature\n",
            " \n",
            "strict\n",
            " \n"
          ],
          "name": "stdout"
        }
      ]
    },
    {
      "metadata": {
        "id": "O8aKualLHYtw",
        "colab_type": "text"
      },
      "cell_type": "markdown",
      "source": [
        "**NMF**"
      ]
    },
    {
      "metadata": {
        "id": "fPqFy2_eIqvO",
        "colab_type": "code",
        "colab": {}
      },
      "cell_type": "code",
      "source": [
        "from sklearn.decomposition import LatentDirichletAllocation , NMF"
      ],
      "execution_count": 0,
      "outputs": []
    },
    {
      "metadata": {
        "id": "cEYK-wIBHa1m",
        "colab_type": "code",
        "outputId": "4f91196a-1be6-4768-de8f-29d28f5a4f15",
        "colab": {
          "resources": {
            "http://localhost:8080/nbextensions/google.colab/files.js": {
              "data": "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",
              "ok": true,
              "headers": [
                [
                  "content-type",
                  "application/javascript"
                ]
              ],
              "status": 200,
              "status_text": ""
            }
          },
          "base_uri": "https://localhost:8080/",
          "height": 93
        }
      },
      "cell_type": "code",
      "source": [
        "uploaded = files.upload()\n",
        "for fn in uploaded.keys():\n",
        "  print('User uploaded file \"{name}\" with length {length} bytes'.format(\n",
        "  name=fn, length=len(uploaded[fn])))"
      ],
      "execution_count": 0,
      "outputs": [
        {
          "output_type": "display_data",
          "data": {
            "text/html": [
              "\n",
              "     <input type=\"file\" id=\"files-6e01d2fd-617f-46ef-8cd8-54e98658dde8\" name=\"files[]\" multiple disabled />\n",
              "     <output id=\"result-6e01d2fd-617f-46ef-8cd8-54e98658dde8\">\n",
              "      Upload widget is only available when the cell has been executed in the\n",
              "      current browser session. Please rerun this cell to enable.\n",
              "      </output>\n",
              "      <script src=\"/nbextensions/google.colab/files.js\"></script> "
            ],
            "text/plain": [
              "<IPython.core.display.HTML object>"
            ]
          },
          "metadata": {
            "tags": []
          }
        },
        {
          "output_type": "stream",
          "text": [
            "Saving read_drug_reviews.txt.txt to read_drug_reviews.txt (1).txt\n",
            "User uploaded file \"read_drug_reviews.txt.txt\" with length 41833 bytes\n"
          ],
          "name": "stdout"
        }
      ]
    },
    {
      "metadata": {
        "id": "zP8gvB7yH86N",
        "colab_type": "code",
        "outputId": "f203772f-6d20-4b89-c63a-c49a9d958dc1",
        "colab": {
          "base_uri": "https://localhost:8080/",
          "height": 2183
        }
      },
      "cell_type": "code",
      "source": [
        "with open('read_drug_reviews.txt.txt', 'r') as fileread:\n",
        "  data1=fileread.read()\n",
        "#read_data2=read('read_data.txt')\n",
        "print(data1)\n",
        "data2 = Drug_Rev.split(\"\\n\")"
      ],
      "execution_count": 0,
      "outputs": [
        {
          "output_type": "stream",
          "text": [
            "'Hey Guys,  Its been 4 months since my last post as I wanted to give it a few months to see how this was going to work.  So, I have been on Trulicity for six months now with Metformin.  When I hit the five month period the diarrhea, gas, sulphur belching finally subsided.  I now longer have any of those side effects.  However, I still havent lost any weight at all, but I think that was because when I first started Trulicity I was taking it with Glimepiride and that one has a side effect of weight gain so I think the two meds were fighting each other lol.  I have been back on the Metformin with Trulicity for about a week now, so we will see what this does.  I was diagnosed as  stage 3 chronic kidney disease (CKD 3) so I am watching diet closely.'\n",
            "'I was recently referred to a endocrinologist and he started me on Trulicity and Jardiance. Ive tried to take Byetta in the past but had to stop because it made me very sick. I lost weight. But that was because I was throwing up all day. Effective weight loss method but I do NOT recommend it! '\n",
            "'Ive taken one dose of Trulicity and while I do have mild nausea it is not bad and I have switched from coffee to green tea in the morning. Really helps. That I would recommend. Sugar levels have not dropped significantly but they are dropping. Guess one week wont work wonders and I have to wait a bit. I dont know if it is the Trulicity or the Jardiance or the combo of both but I have managed to lose 7 pounds in 5 days.'\n",
            "'have only been on victorza for a few days.  I had bad nausea and migranes then it changed to no energy at all .  I sleep till noon one day and I have 2 young kids and a full time job.  Searching for a better answer'\n",
            "'I have been taking Jardiance for just over a year - I have NOT experienced any side effects whatsoever - MORE importantly this drug has reduced my blood sugar levels to an average of 5 and has maintained this level, quite incredible as nothing else has worked previously - I have named Jardiance as the &quot;diabetic wonder drug&quot; although my Doctor keeps reminding me there is no such thing as a wonder drug - I disagree this is MY wonder drug - thank you Jardiance you have changed my life completely astonishing result.'\n",
            "'Ive been on Victoza for 13 days and have lost 8lbs. Ive also been following a low carb diet maintaining 50g of carbs on a daily basis. Ive also worked out only mildly at 2-3 times a week so far.  Feeling great, lots of energy.  Only side effects were nausea the first 2 days and some mild constipation.'\n",
            "'I have only been on Victoza for less than a week now and already huge difference in my levels. Prior to Victoza I was on 2000mg Metforming, 5mg Onglyza following a low carb diet. That brought my levels down to an average of about 14 while fasting. Since being on the Victoza the highest reading I have had so far is a 12.5 which for me is incredible I cant wait to see what I will be at over the next month.  I am not focusing on the weight loss at the moment if it happens awesome, but Im most concerned about my sugars. As for side effects I have had very mild nausea and thats all.'\n",
            "'Started this last night. I have zero appetite. How is this possible? I love food, but I dont really feel like eating. All Ive had today is some grapes. I have a sandwich in my lunchbox, but I dont have any appetite. I havent had any of the side effects so far. I started with the 1.2 dose. The is really easy to use compared to my intramuscular testosterone. However, this drug is ridiculously expensive. Even with good insurance, I would have to pay almost $400 a MONTH!!! Fortunately, another serious illness pushed me over my out-of-pocket annual. So, I filled the script for $0. Due to politics I may have no insurance next year. Anyway, so far, so good with Victoza.'\n",
            "'I was on Bydureon for about 2 months, I really noticed the loss of appetite and lost my sweet tooth. My weight came down and my blood sugar levels dropped from 8.5 to 6.0. I was really happy with the medicine until the known side effects started to show. They were nausea this happened approx once a week in the fourth week in on taking the medicine and bloating, indigestion, a lot of passing wind and acidy burps. Also I felt a bump and itchy feeling around injection area whenever I injected. If they can sort out these side effects then it would be really fantastic for people with Type 2 diabetes. I was really reluctant to stop but the horrible nausea beat me.  '\n",
            "'Within 2 weeks saw blood glucose more than half to good levels Ive not seen for years (literally) no major side effects - felt sick twice within a day or two of first dose but apart from that all ok. Injecting in fatty tissue of stomach hardly any pain. Very well designed device and needle almost painless. I would recommend this for T2s who have gone to max on oral meds and need that extra help, this really is the magic bullet for me. I can handle weekly injections but not daily thats too much imho.'\n",
            "'I have been a type 2 diabetic for 10 yrs now. I tried victoza in may 2016. As of today, Sept. 24th I have lost 45 pounds, Im down to 1 metformin a day and my A1C is great!! The side effects are minimal. Mainly sour stomach but that can be controlled mostly by diet.  Low starch foods help alot. Im so glad after trying a few newer meds that I found victoza!!!'\n",
            "'All the side effects'\n",
            "'Initial use info and review. Little dizzy and nausea the first day. So far, blood sugar readings are dropping. Was around 107-117. Now at 83. A1C is at 6.7. Looking forward to dropping THAT number. Next A1C read is in mid July. No other adverse affects so far.'\n",
            "'My a1c is in the normal range now, and I have lost 42 lbs. All my labs are great due to the weight loss. I have been on 10mcg for over 2 years. My last a1c was so good last time, my doctor wants me to decrease to 5mcg. I have been to several dermatologists over the last 2 years trying to figure out why I am having hair loss, unhealthy hair, and change in texture. I never wanted to attribute it to the Byetta although the hair loss started a few months after I began taking it. I am now so desperate to stop the hair loss, Im considering stopping the Byetta. I cant decide which would be worse - being bald or gaining back 42 pounds! I would really love to know if the person who recently posted had any hair regrowth after stopping Byetta.'\n",
            "'I started Bydueron 10 weeks ago.  I was fine the first 6 weeks.  On week 7, I became extremely ill.  Vomiting, explosive diarrhea, gas pains and bloating like never before, long flatulence every few minutes (how embarrassing!), and sulfur-tasting belching (like rotten eggs).  Endo dr. said it wasnt the med.  I went to my primary doctor because I wasnt sure if it was a virus.  All of my tests came back negative.  Third week, same thing.  I decided not to take the injection and notified endo. She told me to stop metformin and resume shot.  Last week, had shot and condition worsened.  She finally told me to stop the injections.  Its been four weeks of suffering.  Not worth it!  This stuff is poison to me!'\n",
            "'Started trulicity about 8 months ago at .75mg...in the beginning very queasy &amp; complete loss of appetite which was a great thing. Also belching &amp; heartburn/sour stomach. I noticed after about 3 months the effects wore off so my doctor put me on 1.5mg 1x per week plus the .75mg 1x per week. None of the side effects returned...my appetite is back, no queasiness, weight loss stopped as well as no more sour stomach or belching. Wonder if anyone else has experienced the effects of the medicine wearing off as well. Not sure why I am still on it at this point! Also taking 1000mg Metformin 2x daily &amp; invokanna.'\n",
            "'I have been diabetic since 1989 and have gotten worse over the years.  My A1C has been climbing steadily.  I take Metformin 2500 mg per day.  In March my Dr started me on Januvia also and I cant believe the difference.  My A1C went from 9.4 to 7.0 in 4 months.  I am also surprised I havent had any side effects because it seems many meds bother me.  My problem now is my new health insurance wont cover Januvia as of Jan 2016.  Yuck.'\n",
            "'Jardiance gave me back pain because I was dehydrated so I decided to drink one glass of coconut water everyday to relieve the pain and it works'\n",
            "'I started trulicity on6-24-16 so far no side effects im used to drinking lots of water so im not bothered by the dry mouth i hope this helps me and doesnt give me more kkidney Damage ill keep u posted'\n",
            "'I started Victoza today. At only 0.6 mg. I felt so undeniably and utterly  unwell that I cannot imagine even trying it for a second day.  '\n",
            "' In summary, severe low blood sugar symptoms,  ravenously hungry  and I was also prescribe this for weight loss as well as diabetes,  headache, nenergy, and a general feeling of being very not well. '\n",
            "'In short I do not recommend this to anyone.'\n",
            "'Getting better results than with Lantus.  Used Lantus for 7 years.  I have used Toujeo for 1 year as of April 2016.  Did not experience any adverse side effects.  Blood sugar much more stable - not as many highs or lows.  Makes it easier to do fine-tuning with my mealtime insulin.  A1c came down and stayed between 6 and 6.3.'\n",
            "'I am a type two that went into Diabetic ketoacidosis (DKA) and spent three days in the ICU. Once I got out I found an endocronologist and he put me on Glyxambi and My numbers stay between 90 and 120. I also do not eat very many carbs. My doctor gave me a discount card that I use when I get my script filled and the 30 day supply is free with the card. I feel better than I have in years and my last A1c was 6.5 I have been on this drug since April 2016 and today is Oct 27th 2016'\n",
            "'Started it last week only took it for 2 days made me very ill stopped it after 2nd dose still poorly 10 days later glad to hear some people are having real benefit from it'\n",
            "'Was on language for 4 years no side effects was taking 58 units,been on toujeo for 3 weeks and Im beginning to notice a pounding heart beat off and on it started yesterday I hope this passes cause I like the numbers im getting wasnt getting these kind of numbers with language.'\n",
            "'I have been on it 8-9 weeks? Only side effect I have had outside the last two days is loss of appetite which is wonderful for a binge eater like myself. You not only get full sooner, you almost feel sick. I dont mind, reminds me I need to keep myself in check.'\n",
            "'Until the last two days, I have not had the nausea and vomiting others seem to have. I dont know why it decided to start. Vomited two days in a row now. Hope it doesnt continue, I otherwise love it.'\n",
            "'I couldnt tolerate metformin at all.  Moving to Januvia was wonderful. Ive been on it for a year and a half and have had no side effects whatsoever. Blood glucose numbers and A1c (5.7!) have been good, but I also exercise and closely watch my diet.'\n",
            "'Bydureon helped me get my A1c numbers down. If I would just follow the rules and eat right, it could do wonders. Also, for those getting the nodules at the injection site, put an ice pack on the site for about 15 minutes and you will probably not get a knot. Works wonders for me.'\n",
            "'I have start taking forxiga 10 mg 6 months before.  I have UTI and I feel that my power of muscles getting weaker and weaker.  I am skinny and after taking this medicine I became even more skinny I continue to loose weight. It is horrible to me.'\n",
            "'Switched from Lantus to Toujeo. Same results. Not at goal. Then seas switched to Treseba. Tastings are more or less in the low 100s each and every day. Not fearing hypos like before and feel much better'\n",
            "'worst yeast infection ever!  Running to the bathroom all the time, didnt make it a few times, glad that happened at home.'\n",
            "'I started Trulicity about a year ago because the medication I was on kept crystalizing and was hard to inject.  I have lost weight about 22 pounds over the course of a year.  The biggest things to get used to were the nausea and the diarrhea but after giving 4 weeks to adjust to the medication my blood sugar does not spike like it used to and I felt better.  I dont have my usual cravings for anything bad for me  but I do have an appetite.  I tell anyone who needs to lose a few pounds and lower blood sugar to stick with it.  It will get better.  I cant complain about the medication.  All anti-diabetic agents cause the stomach issues.  Hang in there.'\n",
            "'I was taken off Invokamet and started Kombiglyze/metformin and my normal waking sugar has usually been a little high (140-180) but after being on this its in the 200s and 300s waking and stays high most of the day (even with small doses of humalog). Its been crazy and am looking at changing to something different now :/'\n",
            "'Within 12 days 100 mg brought my sugar down 40 pts. HOWEVER, it did a number on my blood pressure. I have excellent blood pressure, on the lower end of normal, and this dropped it down to the point I could barely function. Fatigue so bad I had to stop driving after 15 miles because I was falling asleep at the wheel. Going up the 3 flights of stairs to my apt felt like climbing Mt. Everest. Constant dizziness, wooziness, the floor felt like it was moving when Id bend down. Weird tunnel vision effect like what happens when you know youre gonna faint. It took 2 full days for all those side effects to clear after I quit taking it. I suffered 12 days thinking Id get used to it but it just kept getting worse. Beware low BP side effects with it'\n",
            "'I dont like this particular brand of Metformin. It doesnt have consistent results. My A1C  was down to 5.9 from 11.8 when first diagnosed  in 2009 after receiving a round of steroid shots for my back pain. My doctor had put me on a series of different diabetic  type 2 meds. They found I was insulin resistance. So, they put me on Actos  for about  6 months and that is what got everything under control. I also had a extreme diet change  in 4 months I lost 100 lbs. Also helped my numbers. Unfortunately I had a life changing event which required me too move out of state. I just had my urine checked and my kidneys seem to be fine but having major issue when my sugar is 129 -. My A1C has gone up since taking this. Itching, diarrhea, weight gain'\n",
            "'Give Trulicity at least 4 weeks. I like many others experienced upset stomach, nausea and fatigue the first month where symptoms decreased each week. The nausea was quick and unexpected and I wanted to throw in the towel. Im now on week 6 and feel fine most of the time. The fatigue is still there sometimes but its been manageable. This has been the best medicine for me by far. I  am on the low dose .75 and also take metformin 500 mg twice daily. I find the best time to take my shot is at night before I go to bed and I only take 1- 500 mg of metformin the day after the shot, where the side effects were more active. I was on Kombiglyze SR that had 2000mg of metformin. It did not work for me. My numbers are finally below 120 with trulicity.'\n",
            "'Unbelievable... Appetite has been cut in half if not more, however eating healthy and keeping a food log to ensure calorie intake. Starting 2nd week increasing dosage to 1.2. Have experienced no side effects i.e., nausea, headaches, etc.  Career mandates extensive travel, has been easy to maintain overall calories without any &quot;sugary cravings&quot;.'\n",
            "'Ive just started using Levemir Flextouch.  I only use it at bedtime.  Morning. sugars are 278 or higher.  Im up to 60 units so Im concerned.'\n",
            "'For some reason my A1C was increasing.  My doctor added Jardiance to my regiment.  My A1C dropped from 7.8 to 7.4 quite quickly.  After three more months on Jardiance my A1C went from 7.4 to 6.2.   I have also lost about 6 pounds since taking it.'\n",
            "'Side effects have been UTI and I feel tired and weak quite a bit.  No energy.  Other than that, Ive been good.  But I dont like feeling like this, so will tell my doctor about it today. Perhaps a small price to pay for such a drop in my A1C.'\n",
            "'It is also very expensive.  I get samples from my Dr at times, but being on Medicare and it being a new drug, its pretty costly.  Have to see if its even on the formulary for 2018 as it always changes &amp; the drug co. does not give discounts to Medicare folks'\n",
            "'Because of all of the bad reviews I was scared to death. In two weeks, I have lost almost 10 pounds. I have been very careful not to eat greasy foods, but have found that if I do eat something I feel badly for only  a bit. My sugar count daily was never under 180 always between 230 and 300. I was disgusted even to take it. No matter if I ate salads or a cheeseburger it was high. I woke up this morning and my count was 120. I feel good but I am a little sleepy. Taking the shot is so easy, last time I had to check and make sure there was a puncture mark because I didnt feel the needle. I am, so far on the lowest dosage but this Saturday I take the higher dose.Very happy so far. Ill let you know with the higher dose how things go.'\n",
            "'Ive been taking the 1.2 dosage for about 4 weeks. My PA didnt start me on a lower dose and increase which may have been good as the nausea has been pretty bad. I know Ive lost at least 10lbs and I havent got much appetite. I do feel full quickly as well. Also, Im not seeing a huge improvement on my daily numbers - its been 4 hours since breakfast and my blood glucose is 172. While Im not complaining about the weight loss, I am very concerned about the long term side effects of taking this medication and am looking forward to more information on that. I see my PA tomorrow for a follow-up so will see what they say.'\n",
            "'I have been taking 25 mg of Jardiance each day for 4 months. I pee constantly, have to get up through the night to pee.  I am always thirsty and I drink a lot.  I too have noticed an increase in sugar cravings.  Eye doc found a hole in my retina last week and I had laser surgery to repair it.  I also have a constant yeast infection which is very uncomfortable.  I do not want to take this drug anymore but my pancreas does not work correctly since I had a tumour 25 years ago.  I am going to try to eliminate all sugar from my diet to see if my BS is ok.'\n",
            "'No side effects has worked well for me'\n",
            "'I have been on toujeo for almost a year. I have chronic health conditions and then got type 2 diabetes. The longer you have it the harder it is to control. I have noticed new things that havent gone away. One eye is blurry, sometimes both of them. I have convultions in my boby that drive me crazy. Its not fun to have your body jumping around. I have also been having cold sweats, dizziness &amp; headache. I am going to go back to Lantus.It took me awhile to realize these symptoms were not normal to my other illnessess. But I am sure now.'\n",
            "'Started out with 5 mg 3 months ago.  Began having slight external itching after about a month.  Never turned into an internal yeast infection.  It was off and on.  Started taking 10 mg about 10 days  ago and it turned into an &ldquo;worse itch ever &rdquo;.  Awful!  Couldn&rsquo;t tell much difference in going to the bathroom nor a change in my blood sugar.  Did not help A1c.  I would rather fight high blood sugar than take this medication.!!'\n",
            "'I took this drug for 6 days. On the third day my sugar dropped to 60. On the sixth day it did it again - hypoglycaemic.. take at your own risk!! very bad drug'\n",
            "'A couple of years ago, I was introduced to Victoza and had a horrible experience with it and stopped taking it.  During this time, my doctor instructed me to take it with my Metformin thinking it would help me lose weight.  A couple of years later,  l found that the Metformin was causing me complications. I changed doctors and my new doctor recommended Victoza again.  This time without using Metformin or any other diabetes medication. Reluctantly, I tried it and to my surprise,  I have had great results.  I no longer have cravings for sweets and my appetite has changed drastically. I have zero side effects.    In 3 weeks, I have lost nearly 15 pounds.  In September 2015, I will have my a1c checked again and praying for better A1c.'\n",
            "'I have been on Victoza for quite a long while now.  I was between 278 and 287 pounds when I started and my blood sugar was not good.  I have been taking the Victoza well over a year now and am down to 215 pounds, quite amazing really as the medicine makes you not want to eat and you feel full with only a little food.'\n",
            "'However, the nausea is the worst and getting accustomed to the medicine is the hardest part.  Yes, you should not take Victoza on an empty stomach.  I had started taking it in the early mornings.  But sometimes even though I ate a little something, once the nausea started then up came everything I had ever eaten in my life. It happens really fast!'\n",
            "'Just dont give up the fight, the good is better than the bad!'\n",
            "'Been on Byetta for 2 years &amp; it is fine except the nausea in the morning after the injection so my doctor told me to have it 15 minutes before my breakfast &amp; it works wonders. No more nausea. I also have it 15 minutes before dinner also. My weight stays the same as I am not overweight.'\n",
            "'Ive been taking Victoza for 2 months, up to full dose.  Side effects, gas and sulphur burps and acid reflux.  What I have realized is that this medicine actually makes your stomach empty slower into the smaller intestine.  Imagine you have a chemically induced lap-band.  You cannot eat what you were use to, your stomach is half full to begin with.  So with alot of trial and error you will figure out the eating habits to prevent the reflux and such.  I am planning on eliminating dinner, just a nestle Boost and maybe cheese and grapes later but want to do just the boost.  So I hope major weight loss comes soon.  I will let you know.'\n",
            "'Save your money. All positive reviews are written by investors of this products stock.'\n",
            "'Was having a very difficult time controlling my blood sugar.  My A1C reached 9.1 and I was hospitalized for three days, then sent to an endocrinologist.  He put me on Victoza 1.8ML once a day and an Invokana 300MG once a day.  Within 2 three months I was at 5.9 A1C and average 110 blood sugar.  I have lost close to 40 lbs.  There have been some side effects, constipation, cramping, and thirst.  These have all faded and become less extreme after being on the combo for just over 6 months.  I would never change this medication.  It truly has changed my life.  Had to change insurance this year and it was a battle to get the Invokana approved but they relented. Thank goodness.  FYI  I have taken, Glipizide, Glimerpride, Metformin, Actos and Insulin.'\n",
            "'Have been on metformin 2.5g, glimepride 4mg, Januvia 100mg reading now 6.3 3 months on Januvia for 12 months. No weight gain, no side effects. Was on Actos, gained 4kg, had hypos readings above 7. 3 months all the time, less hunger pain no hypos, best readings in 3 years.'\n",
            "'Invokana was a disaster for me!  First on Invokamet, also bad!  Had GI problems with Invokamet.  Dr, switched me to Invokana.  Worse GI problems.  Developed anal fissures from the diarrhea and constipation.  Now have yeast infection.  Back on Metformin and exercise.  Numbers are better!'\n",
            "'I started taking this medication 5 weeks ago, with average blood sugar control.  My first experience after a couple of dosages I passed out.  For the past 4 weeks I have had system wide lymph node swelling, fever, skin sensitivity.  I have had several cancer tests.  I am going off of this HORRIBLE medicine. I have researched and have seen that there are not many like me, but there are at least 3 that have done either the same or had some of the same symptoms.  I have almost lost my job due to this medicine, and my health and well-being has been horrible since I have been taking this.  For those of you that it works for, great, I am glad it does.  Please just be aware of any of the above reactions.'\n",
            "'Been on Jardiance 10mg 3 months and have lost 20 lbs without changing my diet significantly. First time under 200 lbs in 30 years!  My BP is lower and my knees dont ache and have not had any back pain . However, my HgA1C has increased from 8.5 to 10.2 and BGs have increased to between 10 - 15 (Canadian readings!) I am taking Metformin 1000 mg twice daily along with the Jardiance. My Dr. discontinued Glucophage and Januvia before adding Jardiance so this may have caused the increased changes. Ive had 3 yeast infections during this time but better now. Dry mouth and increased thirst as well as urine that is almost syrupy at times. My Dr. was not aware of weight loss as a side effect so sending me for tests! Thanks for your reassurance!'\n",
            "'On 100 mg daily for almost 2 yrs and could hardly walk, lay or sit anymore. EXTREME joint pain, increasing monthly. Sent to arthritis doctor and ortho with no relief, only more pills. I researched online and found others with same problem. Took myself off Januvia and joint pain is GONE! I can walk again!'\n",
            "'Ive been on Invokana  for year in a half. At first I did lose weight as Ive done with other diabetic medications. That lasted maybe a month and than stopped. I didnt see a significant drop in my A1C and have frequent yeast infection. If I cant get to the pharmacy to pick it up and am without it for a couple of days I get relief from the yeast infection. Im to the point where I am tired of dealing with having the and will most likely ask my doctor to take me off of it.'\n",
            "'On Bydureon about a year.  Im 57, been diagnosed type 2 Diabetic for about 8 years. On Insulin + Metformin.  Doc prescribed this for me originally because I just couldnt get my A1C below 7.0 even though my daily numbers rarely climbed over 130 even right after eating.'\n",
            "'The Pros:  A1C dropped into the low 4s and remains at that level.  Lost 20 - 25 lbs and the weight has stayed off.  Pen device is not difficult to set up and use once a week, takes about 5 minutes max to do the injection routine and Ive only had 1 instance total in a years time of a pen not working properly.'\n",
            "'The Cons: HUGE needle that hurts. Bad nausea after injection and occasional itchy hard lumps at injection site. One major B/sugar crash - low 50s.'\n",
            "'Started taking Victoza 6 days ago.  I have had migraines and a little bit of nausea.  I  am taking 0.6 mg.  I have not lost any weight from this medicine yet. My Doctor wanted me to try Victoza because even with low carb diet and 1500mg of metformin and 100mg of Januvia my blood sugar was still high.  I tried Lantus insulin for 10 days and gained 9 lbs in the 10 days after starting it so I quit taking it.  I have lost 16 lbs in the last year and my blood sugars have gone up so I do not want to take insulin and gain the weight I worked so hard to lose back.'\n",
            "'I have had the Amaryl and after 4 month my love life was gone, and another person that I know, he had the same problem. He is still using Amaryl and now even Viagra doesnt work any more.'\n",
            "'Started taking Byetta three weeks ago, no real problems associated with it other than constipation which I hate. I have never ever had this problem in my life. My numbers went up a few points the first week but on the second week has been at 100-140. I can live with that, better than the 200-300 I was at with pills. Not eating as much lost 5 pounds so far and I dont get as hungry as often as I did. So far its working.'\n",
            "'Im over 300lbs I have only been taking this for 1 month and Im finally losing weight. Its so strange. Ive been on metformin for about 6 months but it failed to lower my numbers. With this pill Im never hungry just thirsty. I have to force myself to eat at times. I didnt notice the weight loss at first but everyone else did. Its coming off fast and I havent yet incorporated exercise or much of a change in diet. The only bad side affect Ive experienced is the frequent urination and dry mouth. I sometimes have bladder pain but only the times I dont drink plenty of water. Im so excited to be finally losing weight!'\n",
            "'For many years, I had intestine cramps. I used to take medicines. By afternoon I used to again pain. Also cholesterol used to be high. Type 2: diabetic was identified. Since Nov 2013. I am using. Janumet 50/1000 bMy intestine aches zeroed. So is cholesterol. Levels. I feel good.'\n",
            "'I got this shot during a doctor visit.  Unsure if dose was the .75 mg but the 3 samples he gave me were of the 1.5 mg dose.  Side effects began following day: nausea, diarrhea, abdominal pain, decreased appetite, indigestion and severe acid reflux. I also had body aches and fatigue. I dare say I felt depressed. I had just gotten over the stomach flu 3 weeks before and it felt like I had come down with it again! Trulicity did lower my glucose levels as did my weight (3 lbs. that week) Of course it did! I could not eat and what ever little food I ate, it came out in minutes!  I DID NOT and WILL NOT inject myself with this again  Im sorry I agreed on the shot.  One of the worst weeks of my life!'\n",
            "'I totally love it! The best medicine that they have ever ever come out with for diabetes type 2!'\n",
            "'Numbness on the leg after injection from the knee cap to nearly the groin and around the side of the leg'\n",
            "'Been on 10mg Empagliflozin for just over a month and  Ive lost 21 lbs in that time.  Ive been on 800 calorie/day low carb diet too and have found it quite easy to do.  As a result Ive come off insulin and Im sure thats made it easier to lose weight.  Something I havent seen anyone mention is fluid retention.  I suffered really badly from fluid retention in hot weather.  When the temperature goes up, I can put on 14 lbs in 48 hours and can then barely walk my legs and feet are so swollen.  Never found anything that really helped.  Just had to wait for weather to cool down again and swelling reduced.  Since Ive been on Empagliflozin, my body is properly drained all the time.  Fabulous!  Love this drug. HbA1c good too.'\n",
            "'Started on Victoza two weeks ago.  Ive lost six pounds and have not experienced any of the negative side-effects - just the decreased appetite.  I was taking Metformin 1000mg twice a day and glypizide (Glucotrol) 10 mg twice a day, and my morning sugars were crazy high, like in the 200s and the doc was talking about insulin.  Then I saw the endocrinologist, who put me on Victoza and on day 2 my morning bg was 89!  Am now off the glypizide and tapering off the Metformin, continuing to lose weight and feeling good!  I hope the long-term side-effects dont turn out to be bad...'\n",
            "'Im on my 2nd weeks with Truelicity.0.75 mg..I take my shot every Friday at noon. by Saturday-Sunday night I have diarrhea, and feeling very sick to my stomach /getting sick..&amp; The hearburn I think is the worst side effect of all..Burping every 20 minutes then it feels like my chest is on fire..Alka-Seltzer did help with the heartburn!! Last but not least im hardly eating..I maybe take 3 bites of something and im done with it..It seems like my taste buds have changed all food is either to sweet or to salty...On the other hand my blood sugar numbers are great..I was taking Tresiba 30 units once a day with metformin 1,000 mgs 2x a day.&amp; my blood sugar numbers were over 280..with truelicity my blood sugar numbers are under 170 after i eat'\n",
            "'I have lost extensive weight and have lots of energy but my hair is falling out and is so brittle is  breaking off at the ends. My numbers have gone down but your hair is usually a good indication of your health.  If the medication is doing this to my hair what other long terms effects am i going to have that I am unaware of. '\n",
            "'I am thankful that other people expressed their problem with hair loss also. I was told that I probably use too many chemicals on my hair.'\n",
            "'As a prediabetic, I am anxious to not hit a &quot;tipping point&quot; into full diabetes. I asked my GP for Vitroza, but could only get insurance to cover Byetta. Three weeks later and 25 pounds less, I am thrilled. I still lap swim 3 times a week and lift weights with no hunger or sweet cravings. Also I inject in my thigh with no side effects. WHEW! Thanks Byetta!!'\n",
            "'I was prescribed Invokana for high glucose (Prediabetes), not diabetic yet.  I have been on the medicine a little over a month.  I developed a yeast infection and my hair is shedding a lot--handfuls at a time. Dermatologist said it would shed for up to 10 more weeks. What a horrible side effect that is not mentioned anywhere!  I stopped taking the medicine.'\n",
            "'Ive been on Victoza for 2 &amp; a half years. I was a little nauseated at first but my a1c has been around 6 since i started taking it. Ive also lost 70 lbs! I feel better than I ever have!'\n",
            "'One month before I got newly diagnosed that I am diabetic. My A1C test shows 6.9 and doctor told I have diabetics. He preferred Januvia 100mg (1 time) with metformin 500 mg (2 times). I felt some side effects initially and gone after some days. Now I am doing regular exercise. But if I stop exercise or eat more food, the side effects like stomach problem easily coming back. '\n",
            "'Now when I am checking my sugar in device, its showing around 70-80 on fasting and 90-105 two hours after breakfast. But I think my glucose coming down when I miss a meal any time. I cant tolerate it.'\n",
            "'So I believe, exercise is more important than any medicine. Once I dropped all medicines for ten days and exercised only, it showed normal glucose levels.'\n",
            "'Type 2. Active mom, 47, work, dance, sing, travel. '\n",
            "'1000mg metformin twice a day, readings with Tradjenta between 140-230. Another doctor recommended yesterday to try Glipizide for 30 days, this morning a surprising 104. Feeling well.'\n",
            "'Second time Dr, put me on bydureon. Been on for 6 weeks this time and my sugar level hasnt been below 200 except twice. Lost a few lbs. No side effects. I feel ok but want sugar level back in the 100s when I was taking the another med which was worked great. The only reason I am off that med is because the military switched do to cost (budget). I need to get my A1c check.'\n",
            "'I am on my 3rd week of Trulicity.'\n",
            "'I was really apprehensive after the first dose, and I waited for the awful symptoms to kick in.'\n",
            "'I was looking after my diet and exercising. After 4 days, I kinda over ate and also had some ice cream. Thats when the nausea and diarrhea kicked in. Stomach and nausea settled back to normal in a day or so.'\n",
            "'To avoid these symptoms, its really important to avoid diary and eat very small meals.'\n",
            "'My numbers have shown a dramatic improvement.'\n",
            "'Ive lost 11 pounds so far, but that because I have dieted and exercised along-with the Trulicity.'\n",
            "'Good luck everybody'\n",
            "'Been on victoza 0.6 mg for a week. Was on a flozin before which was wonderful, lost a stone and g ad tons of energy. Then I was forced to go onto victoza. Felt sick with headache since, stomach pain, constipation, always but thirsty. In fact so thirsty I cant sleep, no matter how much water I drink. Sore throat, which puts me off solid food. Hungry all the time but cut down on carbs so cant fill up. Plus, my blood sugar has shot up from 9 to 14 on this rubbish. Wondering whether the higher 1.2 dose would work, but scared of feeling even more ill. The energy I gained on the flozin has gone, I just want to sleep all the time. I am forced to use this as it was prescribed, they said they want to keep me on it 6 months. Cant wait to get back on t,'\n",
            "'After 3 months of 2mg four times a day, with no change in glucose levels my doctor and I sat down for a talk.  When asked if there was a ceiling for the dosages he said we have plenty of room to adjust (there actually is no recorded max dose I could find in the literature).  The typical patient uses about 4 mg four times a day. I have found that I have had to increase as much as 16mg four times a day to see adequate glucose changes.  Its ease of use and small size makes it easier to take than some, but I have yet to find its stable dosage for ME.'\n",
            "'Invokana 100 mg daily  in addition to Metformin took my blood sugar levels way down..never over 150s range. . lost weight without trying. .main side effect was constant urination. .about every hour..great med  other than that'\n",
            "'So far not impressed. Had tummy upset  for two weeks but that did ease off. I do feel full and bloated which is good but my blood sugars are higher than when I was on othe meds by mouth. Im on Novo mix 30 insulin 60 morning dose and 60 evening dose. My readings over the last week have been from 12.8 to 24.6. Surely this isnt right. And no weight loss. Feel really disappointed. I do take Mirtazipine for depression and my G.P. has just increased my dose. Apparently this can cause increased weight and appetite. Feel like Im fighting a losing battle at the moment.'\n",
            "'Started taking 100 mg daily at night numbers came down in a week...went to see the Doctor in a month he was happy then he prescribed 300 mg daily...soon after taking this dosage I began to experience an itching on my penis and it was driving me crazy, also experienced more frequent urination along with an insatiable thirst. I was about to schedule an appointment with my urologist until I Googled &quot;Side effects of Invokana&quot;.  The itching wouldnt stop didnt know that there were these side effects from this medication and even though it helped bring down my sugar levels I really dont think its worth the other problems it presents.  I too have experienced a weight loss. It is a good medicine but the side effects arent worth it. Sorry'\n",
            "'I have been on Bydureon for two years and have lost over 30+ pounds along with my sugars now under control. I also take Metformin as an oral as well. In reviewing some of the reviews I agree that in the beginning I had so called lumps but as time has gone by I dont seem to get them any longer. No burning and once in awhile a little bleeding but that can be cleaned away just like when you are getting blood taken. After all you are injecting into the skin. One of the things I do before taking my weekly scheduled injection is taking the kit out of the refrigerator the day before and getting it down to room temperature. Not sure if this has eliminated lumps or burning but there seems to be a difference. Bydureon has been good to me.'\n",
            "'I have been on for 3 weeks and am losing weight. Clothes are loser. I average about 700 calories a day, as that is all I can bear to eat. The sight of food makes me nauseated and I take the med at night because of the drowsiness it produces. It is doing what it promises. Food has taken a back seat in my life for a change. I dont even think of my next meal, anymore.'\n",
            "'My a1c has been 8 on metformin and Januvia. '\n",
            "'After 2 doses of janumet I went hypo. Feeling woozy and generally unwell.  BP 159/61.'\n",
            "'Bad scene.'\n",
            "'Lost 6 kgs in 3 weeks, weight has been stagnant after that though. Fasting sugar came down from 200 to 116. Great medicine.'\n",
            "'I started Trulicity 3 weeks ago and have not experienced any noticeable side effects. That said, I have been following a very strict low carb diet that has been predominantly vegan. I have a feeling that carb rich foods and heavy animal protein foods exacerbate the GI side effects. I am also on 2000 mg of metformin. I have heard that GI side effects are horrible with glucose lowering drugs but I suspect it has A LOT to do with what people are eating....'\n",
            "'Started taking Invokana 100 mg on 4/19/16. By 4/26/16 I developed the most horrendous yeast infection ever. I was then prescribed fluconazole 100 mg for 10 days. So far have not had any relief from the yeast infection. Brain fog and awful muscle and joint pain have also plagued me after I started taking Invokana.  I have since stopped taking it, just not worth the physical pain or the mental disconnect that comes with it.'\n",
            "'I am on my 2nd week of using this medication. I am taking it for insulin resistance and noticed a difference very quickly as far as appetite and hunger.  The first day after my first shot I did not eat as much at each meal and did not feel as ravenously hungry between meals.  Its been a week and a half and Ive already dropped 6 lbs.  The needle is a little big but the weight loss is worth it.  I do have the itching around the injection site - about the size of a quarter and feels like a mosquito bite.  Hoping this diminishes..... but its the only really bothersome thing Ive noticed so far. No nausea (which was terrible with Victoza) and nothing else of note.  Hoping this (and the weight loss) continues.'\n",
            "'Good for treating post-meal blood sugar spikes.'\n",
            "'Im constipated all the time. (I was eating 40+ grams of fiber a day) - so I am absolutely miserable on this. My blood sugars are lower, but only because I cant eat.  If I eat anything healthy at all, I get sick.  '\n",
            "'I cannot lay down at night because the heartburn is so bad.  The first thing I do every morning is throw up.  The only time I dont have nausea is if I eat refined flour or sugar - which is not what I want to do.  I constantly have cramps, feel like I have the flu, and overall my quality of life has gotten worse since I started. '\n",
            "'I dont know why my doctor wont let me go to mealtime insulin instead of this.'\n",
            "'I am taking this with metformin for over a week now. It took a few days to overcome the &quot;sinus headache&quot; effect. Other than that, controlling my sugar is less stressful with this med. added to my regimen of diet and exercise. (I was diagnosed about 3 months ago).'\n",
            "'I have been taking 4mg once in morning for last 8 or 9 years without any problems. Weight is staying stable within 5 lbs  /- for the last 8 or 9 years. '\n",
            "'Doctor put me on Victoza. Metformin alone wasnt cutting it. Started a little over 2 weeks ago, lost 13 pounds, curved my appetite. I feel great and my sugar level is averaging about 110 and it was over 220.  love it....'\n",
            "\n"
          ],
          "name": "stdout"
        }
      ]
    },
    {
      "metadata": {
        "id": "4OREWa1bIXza",
        "colab_type": "code",
        "outputId": "94b75dfa-d5c5-4512-a32f-bc16a95cee0a",
        "colab": {
          "base_uri": "https://localhost:8080/",
          "height": 183
        }
      },
      "cell_type": "code",
      "source": [
        "from sklearn.feature_extraction.text import CountVectorizer\n",
        "corpus2 = data2\n",
        "vectorizer = CountVectorizer()\n",
        "#vectorizer.set_params(stop_words=stopWordList)\n",
        "X = vectorizer.fit_transform(data2)\n",
        "print(vectorizer.get_feature_names())\n",
        "T = vectorizer.get_feature_names()\n",
        "Y = X\n",
        "print(X.toarray()) #<This is the Tf for each term\n",
        "Z = Y.toarray()"
      ],
      "execution_count": 0,
      "outputs": [
        {
          "output_type": "stream",
          "text": [
            "['000', '10', '100', '1000', '1000mg', '100mg', '100s', '104', '105', '107', '10lbs', '10mcg', '10mg', '11', '110', '116', '117', '12', '120', '129', '13', '130', '14', '140', '15', '1500mg', '150s', '159', '16', '16mg', '170', '172', '180', '19', '1989', '1x', '20', '200', '2000', '2000mg', '2009', '200s', '2013', '2015', '2016', '2018', '21', '215', '22', '220', '230', '24', '24th', '25', '2500', '26', '278', '27th', '280', '287', '2mg', '2nd', '2x', '30', '300', '300lbs', '300mg', '300s', '3rd', '40', '400', '42', '45', '47', '48', '4kg', '4mg', '4s', '50', '500', '50g', '50s', '57', '58', '5g', '5mcg', '5mg', '60', '61', '70', '700', '75', '75mg', '80', '800', '83', '89', '8lbs', '8ml', '90', 'a1c', 'abdominal', 'about', 'above', 'absolutely', 'accustomed', 'ache', 'aches', 'acid', 'acidy', 'active', 'actos', 'actually', 'ad', 'added', 'adding', 'addition', 'adequate', 'adjust', 'adverse', 'affect', 'affects', 'after', 'afternoon', 'again', 'agents', 'ago', 'agree', 'agreed', 'alka', 'all', 'almost', 'alone', 'along', 'alot', 'already', 'also', 'although', 'always', 'am', 'amaryl', 'amazing', 'amp', 'an', 'anal', 'and', 'animal', 'annual', 'another', 'answer', 'anti', 'anxious', 'any', 'anymore', 'anyone', 'anything', 'anyway', 'anywhere', 'apart', 'apparently', 'appetite', 'appointment', 'apprehensive', 'approved', 'approx', 'april', 'apt', 'are', 'area', 'arent', 'around', 'arthritis', 'as', 'ask', 'asked', 'asleep', 'associated', 'astonishing', 'at', 'ate', 'attribute', 'average', 'averaging', 'avoid', 'aware', 'away', 'awesome', 'awful', 'awhile', 'back', 'bad', 'badly', 'bald', 'band', 'barely', 'basis', 'bathroom', 'battle', 'be', 'bear', 'beat', 'became', 'because', 'become', 'bed', 'bedtime', 'been', 'before', 'began', 'begin', 'beginning', 'being', 'belching', 'believe', 'below', 'bend', 'benefit', 'best', 'better', 'between', 'beware', 'bg', 'bgs', 'big', 'biggest', 'binge', 'bit', 'bite', 'bites', 'bladder', 'bleeding', 'bloated', 'bloating', 'blood', 'blurry', 'bmy', 'boby', 'body', 'boost', 'both', 'bother', 'bothered', 'bothersome', 'bp', 'brain', 'brand', 'breakfast', 'breaking', 'bring', 'brittle', 'brought', 'bs', 'budget', 'buds', 'bullet', 'bump', 'burning', 'burping', 'burps', 'but', 'by', 'bydueron', 'bydureon', 'byetta', 'called', 'calorie', 'calories', 'came', 'can', 'canadian', 'cancer', 'cannot', 'cant', 'cap', 'carb', 'carbs', 'card', 'career', 'careful', 'cause', 'caused', 'causing', 'ceiling', 'change', 'changed', 'changes', 'changing', 'check', 'checked', 'checking', 'cheese', 'cheeseburger', 'chemically', 'chemicals', 'chest', 'cholesterol', 'chronic', 'ckd', 'cleaned', 'clear', 'climbed', 'climbing', 'close', 'closely', 'clothes', 'co', 'coconut', 'coffee', 'cold', 'combo', 'come', 'comes', 'coming', 'compared', 'complain', 'complaining', 'complete', 'completely', 'complications', 'concerned', 'condition', 'conditions', 'cons', 'considering', 'consistent', 'constant', 'constantly', 'constipated', 'constipation', 'continue', 'continues', 'continuing', 'control', 'controlled', 'controlling', 'convultions', 'cool', 'correctly', 'cost', 'costly', 'could', 'couldn', 'couldnt', 'count', 'couple', 'course', 'cover', 'cramping', 'cramps', 'crash', 'cravings', 'crazy', 'cream', 'crystalizing', 'curved', 'cut', 'cutting', 'daily', 'damage', 'dance', 'dare', 'day', 'days', 'dealing', 'death', 'decide', 'decided', 'decrease', 'decreased', 'dehydrated', 'depressed', 'depression', 'dermatologist', 'dermatologists', 'designed', 'desperate', 'developed', 'device', 'diabetes', 'diabetic', 'diabetics', 'diagnosed', 'diarrhea', 'diary', 'did', 'didnt', 'diet', 'dieted', 'difference', 'different', 'difficult', 'diminishes', 'dinner', 'disagree', 'disappointed', 'disaster', 'disconnect', 'discontinued', 'discount', 'discounts', 'disease', 'disgusted', 'dizziness', 'dizzy', 'dka', 'do', 'doc', 'doctor', 'doctors', 'does', 'doesnt', 'doing', 'done', 'dont', 'dosage', 'dosages', 'dose', 'doses', 'down', 'dr', 'drained', 'dramatic', 'drastically', 'drink', 'drinking', 'drive', 'driving', 'drop', 'dropped', 'dropping', 'drowsiness', 'drug', 'drugs', 'dry', 'due', 'during', 'each', 'early', 'ease', 'easier', 'easily', 'easy', 'eat', 'eaten', 'eater', 'eating', 'effect', 'effective', 'effects', 'eggs', 'either', 'eliminate', 'eliminated', 'eliminating', 'else', 'embarrassing', 'empagliflozin', 'empty', 'end', 'endo', 'endocrinologist', 'endocronologist', 'ends', 'energy', 'ensure', 'error', 'etc', 'even', 'evening', 'event', 'ever', 'everest', 'every', 'everybody', 'everyday', 'everyone', 'everything', 'exacerbate', 'excellent', 'except', 'excited', 'exercise', 'exercised', 'exercising', 'expensive', 'experience', 'experienced', 'explosive', 'expressed', 'extensive', 'external', 'extra', 'extreme', 'extremely', 'eye', 'fabulous', 'fact', 'faded', 'failed', 'faint', 'falling', 'fantastic', 'far', 'fast', 'fasting', 'fatigue', 'fatty', 'fearing', 'feel', 'feeling', 'feels', 'feet', 'felt', 'fever', 'few', 'fiber', 'fight', 'fighting', 'figure', 'fill', 'filled', 'finally', 'find', 'fine', 'fire', 'first', 'fissures', 'five', 'flatulence', 'flextouch', 'flights', 'floor', 'flour', 'flozin', 'flu', 'fluconazole', 'fluid', 'focusing', 'fog', 'folks', 'follow', 'following', 'food', 'foods', 'for', 'force', 'forced', 'formulary', 'fortunately', 'forward', 'forxiga', 'found', 'four', 'fourth', 'free', 'frequent', 'friday', 'from', 'full', 'fun', 'function', 'fyi', 'gain', 'gained', 'gaining', 'gas', 'gave', 'general', 'generally', 'get', 'getting', 'gi', 'give', 'giving', 'glad', 'glass', 'glimepiride', 'glimepride', 'glimerpride', 'glipizide', 'glucophage', 'glucose', 'glucotrol', 'glypizide', 'glyxambi', 'go', 'goal', 'goes', 'going', 'gone', 'gonna', 'good', 'goodness', 'googled', 'got', 'gotten', 'gp', 'grams', 'grapes', 'greasy', 'great', 'green', 'groin', 'guess', 'guys', 'habits', 'had', 'hair', 'half', 'hand', 'handfuls', 'handle', 'hang', 'happened', 'happens', 'happy', 'hard', 'harder', 'hardest', 'hardly', 'has', 'hasnt', 'hate', 'have', 'havent', 'having', 'hba1c', 'he', 'headache', 'headaches', 'health', 'healthy', 'hear', 'hearburn', 'heard', 'heart', 'heartburn', 'heavy', 'help', 'helped', 'helps', 'hey', 'hga1c', 'high', 'higher', 'highest', 'highs', 'hit', 'hole', 'home', 'hope', 'hoping', 'horrendous', 'horrible', 'hospitalized', 'hot', 'hour', 'hours', 'how', 'however', 'huge', 'humalog', 'hunger', 'hungry', 'hurts', 'hypo', 'hypoglycaemic', 'hypos', 'ice', 'icu', 'id', 'identified', 'if', 'ill', 'illness', 'illnessess', 'im', 'imagine', 'imho', 'important', 'importantly', 'impressed', 'improvement', 'in', 'incorporated', 'increase', 'increased', 'increasing', 'incredible', 'indication', 'indigestion', 'induced', 'infection', 'infections', 'info', 'information', 'initial', 'initially', 'inject', 'injected', 'injecting', 'injection', 'injections', 'insatiable', 'instance', 'instead', 'instructed', 'insulin', 'insurance', 'intake', 'internal', 'intestine', 'into', 'intramuscular', 'introduced', 'investors', 'invokamet', 'invokana', 'invokanna', 'is', 'isnt', 'issue', 'issues', 'it', 'itch', 'itching', 'itchy', 'its', 'ive', 'jan', 'janumet', 'januvia', 'jardiance', 'job', 'joint', 'july', 'jumping', 'just', 'keep', 'keeping', 'keeps', 'kept', 'ketoacidosis', 'kgs', 'kick', 'kicked', 'kidney', 'kidneys', 'kids', 'kind', 'kinda', 'kit', 'kkidney', 'knee', 'knees', 'knot', 'know', 'known', 'kombiglyze', 'labs', 'language', 'lantus', 'lap', 'laser', 'last', 'lasted', 'later', 'lay', 'lbs', 'ldquo', 'least', 'leg', 'legs', 'less', 'let', 'level', 'levels', 'levemir', 'life', 'lift', 'like', 'likely', 'literally', 'literature', 'little', 'live', 'log', 'lol', 'long', 'longer', 'looking', 'loose', 'lose', 'loser', 'losing', 'loss', 'lost', 'lot', 'lots', 'love', 'low', 'lower', 'lowering', 'lowest', 'lows', 'luck', 'lumps', 'lunchbox', 'lymph', 'made', 'magic', 'main', 'mainly', 'maintain', 'maintained', 'maintaining', 'major', 'make', 'makes', 'manageable', 'managed', 'mandates', 'many', 'march', 'mark', 'matter', 'max', 'may', 'maybe', 'me', 'meal', 'meals', 'mealtime', 'med', 'medicare', 'medication', 'medications', 'medicine', 'medicines', 'meds', 'mental', 'mention', 'mentioned', 'metformin', 'metforming', 'method', 'mg', 'mgs', 'mid', 'migraines', 'migranes', 'mild', 'mildly', 'miles', 'military', 'mind', 'minimal', 'minutes', 'mirtazipine', 'miserable', 'miss', 'mix', 'mom', 'moment', 'money', 'month', 'monthly', 'months', 'more', 'morning', 'mornings', 'mosquito', 'most', 'mostly', 'mouth', 'move', 'moving', 'mt', 'much', 'muscle', 'muscles', 'my', 'myself', 'named', 'nausea', 'nauseated', 'nearly', 'need', 'needle', 'needs', 'negative', 'nenergy', 'nestle', 'never', 'new', 'newer', 'newly', 'next', 'night', 'no', 'node', 'nodules', 'none', 'noon', 'nor', 'normal', 'not', 'note', 'nothing', 'notice', 'noticeable', 'noticed', 'notified', 'nov', 'novo', 'now', 'number', 'numbers', 'numbness', 'occasional', 'oct', 'of', 'off', 'often', 'ok', 'on', 'on6', 'once', 'one', 'onglyza', 'online', 'only', 'onto', 'or', 'oral', 'originally', 'ortho', 'othe', 'other', 'others', 'otherwise', 'out', 'outside', 'over', 'overall', 'overcome', 'overweight', 'own', 'pa', 'pack', 'pain', 'painless', 'pains', 'pancreas', 'part', 'particular', 'passed', 'passes', 'passing', 'past', 'patient', 'pay', 'pee', 'pen', 'penis', 'people', 'per', 'perhaps', 'period', 'person', 'pharmacy', 'physical', 'pick', 'pill', 'pills', 'plagued', 'planning', 'please', 'plenty', 'plus', 'pocket', 'point', 'points', 'poison', 'politics', 'poorly', 'positive', 'possible', 'post', 'posted', 'pounding', 'pounds', 'power', 'praying', 'prediabetes', 'prediabetic', 'predominantly', 'preferred', 'prescribe', 'prescribed', 'presents', 'pressure', 'pretty', 'prevent', 'previously', 'price', 'primary', 'prior', 'probably', 'problem', 'problems', 'produces', 'products', 'promises', 'properly', 'pros', 'protein', 'pts', 'puncture', 'pushed', 'put', 'puts', 'quality', 'quarter', 'queasiness', 'queasy', 'quick', 'quickly', 'quit', 'quite', 'quot', 'range', 'rarely', 'rather', 'ravenously', 'rdquo', 'reached', 'reactions', 'read', 'reading', 'readings', 'real', 'realize', 'realized', 'really', 'reason', 'reassurance', 'receiving', 'recently', 'recommend', 'recommended', 'recorded', 'reduced', 'referred', 'refined', 'reflux', 'refrigerator', 'regimen', 'regiment', 'regrowth', 'regular', 'relented', 'relief', 'relieve', 'reluctant', 'reluctantly', 'remains', 'reminding', 'reminds', 'repair', 'required', 'researched', 'resistance', 'result', 'results', 'resume', 'retention', 'retina', 'returned', 'review', 'reviewing', 'reviews', 'rich', 'ridiculously', 'right', 'risk', 'room', 'rotten', 'round', 'routine', 'row', 'rsquo', 'rubbish', 'rules', 'running', 'said', 'salads', 'salty', 'same', 'samples', 'sandwich', 'sat', 'saturday', 'save', 'saw', 'say', 'scared', 'scene', 'schedule', 'scheduled', 'script', 'searching', 'seas', 'seat', 'second', 'see', 'seeing', 'seem', 'seems', 'seen', 'seltzer', 'sending', 'sensitivity', 'sent', 'sept', 'september', 'series', 'serious', 'set', 'settled', 'several', 'severe', 'she', 'shed', 'shedding', 'short', 'shot', 'shots', 'should', 'show', 'showed', 'showing', 'shown', 'shows', 'sick', 'side', 'sight', 'significant', 'significantly', 'since', 'sing', 'sinus', 'sit', 'site', 'six', 'sixth', 'size', 'skin', 'skinny', 'sleep', 'sleepy', 'slight', 'slower', 'small', 'smaller', 'so', 'solid', 'some', 'something', 'sometimes', 'soon', 'sooner', 'sore', 'sorry', 'sort', 'sour', 'spent', 'spike', 'spikes', 'sr', 'stable', 'stage', 'stagnant', 'stairs', 'starch', 'start', 'started', 'starting', 'state', 'stay', 'stayed', 'staying', 'stays', 'steadily', 'steroid', 'stick', 'still', 'stock', 'stomach', 'stone', 'stop', 'stopped', 'stopping', 'strange', 'stressful', 'strict', 'stuff', 'subsided', 'such', 'suffered', 'suffering', 'sugar', 'sugars', 'sugary', 'sulfur', 'sulphur', 'summary', 'sunday', 'supply', 'sure', 'surely', 'surgery', 'surprise', 'surprised', 'surprising', 'suspect', 'sweats', 'sweet', 'sweets', 'swelling', 'swim', 'switched', 'swollen', 'symptoms', 'syrupy', 'system', 't2s', 'take', 'taken', 'takes', 'taking', 'talk', 'talking', 'tapering', 'taste', 'tasting', 'tastings', 'tea', 'tell', 'temperature', 'ten', 'term', 'terms', 'terrible', 'test', 'testosterone', 'tests', 'texture', 'than', 'thank', 'thankful', 'thanks', 'that', 'thats', 'the', 'their', 'them', 'then', 'there', 'these', 'they', 'thigh', 'thing', 'things', 'think', 'thinking', 'third', 'thirst', 'thirsty', 'this', 'those', 'though', 'three', 'thrilled', 'throat', 'through', 'throw', 'throwing', 'till', 'time', 'times', 'tipping', 'tired', 'tissue', 'to', 'today', 'told', 'tolerate', 'tomorrow', 'tons', 'too', 'took', 'tooth', 'total', 'totally', 'toujeo', 'towel', 'tradjenta', 'travel', 'treating', 'treseba', 'tresiba', 'trial', 'tried', 'truelicity', 'trulicity', 'truly', 'try', 'trying', 'tummy', 'tumour', 'tuning', 'tunnel', 'turn', 'turned', 'twice', 'two', 'type', 'typical', 'unaware', 'unbelievable', 'uncomfortable', 'undeniably', 'under', 'unexpected', 'unfortunately', 'unhealthy', 'units', 'unsure', 'until', 'unwell', 'up', 'upset', 'urination', 'urine', 'urologist', 'use', 'used', 'uses', 'using', 'usual', 'usually', 'uti', 'utterly', 'vegan', 'very', 'viagra', 'victorza', 'victoza', 'virus', 'vision', 'visit', 'vitroza', 'vomited', 'vomiting', 'wait', 'waited', 'waking', 'walk', 'want', 'wanted', 'wants', 'was', 'wasnt', 'watch', 'watching', 'water', 'way', 'we', 'weak', 'weaker', 'wearing', 'weather', 'week', 'weekly', 'weeks', 'weight', 'weights', 'weird', 'well', 'went', 'were', 'what', 'whatsoever', 'wheel', 'when', 'whenever', 'where', 'whether', 'whew', 'which', 'while', 'who', 'why', 'wide', 'will', 'wind', 'with', 'within', 'without', 'woke', 'wonder', 'wonderful', 'wondering', 'wonders', 'wont', 'wooziness', 'woozy', 'wore', 'work', 'worked', 'working', 'works', 'worse', 'worsened', 'worst', 'worth', 'would', 'wouldnt', 'written', 'year', 'years', 'yeast', 'yes', 'yesterday', 'yet', 'you', 'young', 'your', 'youre', 'yrs', 'yuck', 'zero', 'zeroed']\n",
            "[[0 0 0 ... 0 0 0]\n",
            " [0 0 0 ... 0 0 0]\n",
            " [0 0 0 ... 0 0 0]\n",
            " ...\n",
            " [0 0 0 ... 0 0 0]\n",
            " [0 0 0 ... 0 0 0]\n",
            " [0 0 0 ... 0 0 0]]\n"
          ],
          "name": "stdout"
        }
      ]
    },
    {
      "metadata": {
        "id": "k68YEpD_Il62",
        "colab_type": "code",
        "colab": {}
      },
      "cell_type": "code",
      "source": [
        "n_samples = 2000\n",
        "n_features = 1000\n",
        "n_components = 10\n",
        "n_top_words = 20\n",
        "def print_top_words(model, feature_names, n_top_words):\n",
        "    for topic_idx, topic in enumerate(model.components_):\n",
        "        message = \"Topic #%d: \" % topic_idx\n",
        "        message += \" \".join([feature_names[i]\n",
        "                             for i in topic.argsort()[:-n_top_words - 1:-1]])\n",
        "        print(message)\n",
        "    print()\n",
        "\n",
        "d1=data2\n",
        "#//data_samples = dataset.data[:n_samples]\n",
        "#//print(data_samples)\n",
        "tfidf_vectorizer = TfidfVectorizer(max_df=0.95, min_df=2, max_features=n_features, stop_words='english')\n",
        "tfidf = tfidf_vectorizer.fit_transform(d1)\n",
        "tf_vectorizer = CountVectorizer(max_df=0.95, min_df=2, max_features=n_features, stop_words='english')\n",
        "tf = tf_vectorizer.fit_transform(d1)\n"
      ],
      "execution_count": 0,
      "outputs": []
    },
    {
      "metadata": {
        "id": "ooD8IjqHI5r9",
        "colab_type": "code",
        "outputId": "236a0162-6369-4091-d5cc-b4dd27d26bc9",
        "colab": {
          "base_uri": "https://localhost:8080/",
          "height": 54
        }
      },
      "cell_type": "code",
      "source": [
        "print(\"\\nTopics in NFM 1 model:\")"
      ],
      "execution_count": 0,
      "outputs": [
        {
          "output_type": "stream",
          "text": [
            "\n",
            "Topics in NFM 1 model:\n"
          ],
          "name": "stdout"
        }
      ]
    },
    {
      "metadata": {
        "id": "CGSVkB_EJC0M",
        "colab_type": "code",
        "outputId": "29e7ee7e-d151-4330-85eb-19b4a7f807bf",
        "colab": {
          "base_uri": "https://localhost:8080/",
          "height": 255
        }
      },
      "cell_type": "code",
      "source": [
        "nmf = NMF(n_components=n_components, random_state=1, alpha=.1, l1_ratio=.5).fit(tfidf)\n",
        "tfidf_feature_names = tfidf_vectorizer.get_feature_names()\n",
        "print_top_words(nmf, tfidf_feature_names, n_top_words)\n",
        "\n",
        "print()\n",
        "\n"
      ],
      "execution_count": 0,
      "outputs": [
        {
          "output_type": "stream",
          "text": [
            "Topic #0: sugar taking victoza blood weeks started medicine nausea weight day days feel lost like mg ago really appetite pounds great\n",
            "Topic #1: a1c januvia metformin months diabetic years exercise 2016 went diagnosed doctor meds readings jardiance problem new hypos effects year time\n",
            "Topic #2: trulicity week far exercised 11 pounds work months belching think finally helps metformin recommend wanted shot gas hit jardiance lost\n",
            "Topic #3: infection yeast invokana stopped developed 10 taking 16 mg relief prescribed 100 didnt month pain bathroom days diabetic awful medicine\n",
            "Topic #4: good post meal blood fight dont sugar just better quite pay feel really hit energy dropping drug dry ease easier\n",
            "Topic #5: effects worked experienced carb foods gi quot feeling following effect expensive eating eat endocrinologist energy exercise exercised easy zero extensive\n",
            "Topic #6: im numbers units sugars getting 60 just improvement eat concerned notice higher eating hope mouth lower 278 losing cause sick\n",
            "Topic #7: ive lbs lost half far victoza years 70 nauseated weight low carb diet 11 exercised amp a1c mild days properly\n",
            "Topic #8: hair loss probably told people byetta problem use extensive usually falling doing lots health energy long weight going gone lost\n",
            "Topic #9: bad better fight dont just day noon job sleep drug days nausea energy changed dropped 60 time took injection hard\n",
            "\n",
            "\n"
          ],
          "name": "stdout"
        }
      ]
    }
  ]
}